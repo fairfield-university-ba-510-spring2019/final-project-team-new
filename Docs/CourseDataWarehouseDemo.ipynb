{
 "cells": [
  {
   "cell_type": "code",
   "execution_count": 1,
   "metadata": {},
   "outputs": [],
   "source": [
    "%load_ext sql\n",
    "import pandas as pd\n",
    "import sqlite3"
   ]
  },
  {
   "cell_type": "code",
   "execution_count": 2,
   "metadata": {},
   "outputs": [],
   "source": [
    "%sql sqlite:///CourseDataWarehouse.db\n",
    "conn = sqlite3.connect('CourseDataWarehouse.db')"
   ]
  },
  {
   "cell_type": "markdown",
   "metadata": {},
   "source": [
    "How many classes taught by each professor?"
   ]
  },
  {
   "cell_type": "code",
   "execution_count": 3,
   "metadata": {},
   "outputs": [
    {
     "name": "stdout",
     "output_type": "stream",
     "text": [
      " * sqlite:///CourseDataWarehouse.db\n",
      "(sqlite3.OperationalError) no such table: Courses [SQL: 'SELECT Faculty_Name, COUNT(Cat_ID) AS Classes_Taught\\nFROM Courses\\nGROUP BY Faculty_Name\\nORDER BY Classes_Taught DESC\\nLIMIT 20;'] (Background on this error at: http://sqlalche.me/e/e3q8)\n"
     ]
    }
   ],
   "source": [
    "%%sql\n",
    "SELECT Faculty_Name, COUNT(Cat_ID) AS Classes_Taught\n",
    "FROM Courses\n",
    "GROUP BY Faculty_Name\n",
    "ORDER BY Classes_Taught DESC\n",
    "LIMIT 20;"
   ]
  },
  {
   "cell_type": "markdown",
   "metadata": {},
   "source": [
    "Total number of students professors have taught"
   ]
  },
  {
   "cell_type": "code",
   "execution_count": 4,
   "metadata": {},
   "outputs": [
    {
     "name": "stdout",
     "output_type": "stream",
     "text": [
      " * sqlite:///CourseDataWarehouse.db\n",
      "(sqlite3.OperationalError) no such table: Courses [SQL: 'SELECT Faculty_Name, SUM(Actual) AS Total_Taught\\nFROM Courses\\nWHERE Actual > 10\\nGROUP BY Faculty_Name\\nORDER BY Total_Taught DESC\\nLIMIT 20;'] (Background on this error at: http://sqlalche.me/e/e3q8)\n"
     ]
    }
   ],
   "source": [
    "%%sql\n",
    "SELECT Faculty_Name, SUM(Actual) AS Total_Taught\n",
    "FROM Courses\n",
    "WHERE Actual > 10\n",
    "GROUP BY Faculty_Name\n",
    "ORDER BY Total_Taught DESC\n",
    "LIMIT 20;"
   ]
  },
  {
   "cell_type": "markdown",
   "metadata": {},
   "source": [
    "What days are popular for certain classes?"
   ]
  },
  {
   "cell_type": "code",
   "execution_count": 5,
   "metadata": {},
   "outputs": [
    {
     "name": "stdout",
     "output_type": "stream",
     "text": [
      " * sqlite:///CourseDataWarehouse.db\n",
      "(sqlite3.OperationalError) no such table: Courses [SQL: 'SELECT DISTINCT Cat_ID AS Class_Type, Day, COUNT(Day) AS Num_Days\\nFROM Courses\\n    JOIN Course_Meeting USING (CRN)\\nWHERE Actual > 10\\nGROUP BY Day, Class_Type\\nORDER BY Num_Days DESC\\nLIMIT 20;'] (Background on this error at: http://sqlalche.me/e/e3q8)\n"
     ]
    }
   ],
   "source": [
    "%%sql\n",
    "SELECT DISTINCT Cat_ID AS Class_Type, Day, COUNT(Day) AS Num_Days\n",
    "FROM Courses\n",
    "    JOIN Course_Meeting USING (CRN)\n",
    "WHERE Actual > 10\n",
    "GROUP BY Day, Class_Type\n",
    "ORDER BY Num_Days DESC\n",
    "LIMIT 20;"
   ]
  },
  {
   "cell_type": "markdown",
   "metadata": {},
   "source": [
    "Which courses in 2017-2018 had data in the \"Fee\" field?"
   ]
  },
  {
   "cell_type": "code",
   "execution_count": 6,
   "metadata": {},
   "outputs": [
    {
     "name": "stdout",
     "output_type": "stream",
     "text": [
      " * sqlite:///CourseDataWarehouse.db\n",
      "(sqlite3.OperationalError) no such table: Fees1 [SQL: \"SELECT Cat_ID, Amount, Academic_Year\\nFROM Fees1\\nWHERE Academic_Year IS '2017_2018'\\nLIMIT 25;\"] (Background on this error at: http://sqlalche.me/e/e3q8)\n"
     ]
    }
   ],
   "source": [
    "%%sql\n",
    "\n",
    "SELECT Cat_ID, Amount, Academic_Year\n",
    "FROM Fees1\n",
    "WHERE Academic_Year IS '2017_2018'\n",
    "LIMIT 25;"
   ]
  },
  {
   "cell_type": "markdown",
   "metadata": {},
   "source": [
    "Which classes (by title) are in which programs?"
   ]
  },
  {
   "cell_type": "code",
   "execution_count": 7,
   "metadata": {},
   "outputs": [
    {
     "name": "stdout",
     "output_type": "stream",
     "text": [
      " * sqlite:///CourseDataWarehouse.db\n",
      "(sqlite3.OperationalError) no such table: Course_Facts [SQL: 'SELECT Title, Program1.Program_Name\\nFROM Course_Facts\\nJOIN Program1 ON Course_Facts.PID = Program1.PID\\nGROUP BY Title\\nLIMIT 25;'] (Background on this error at: http://sqlalche.me/e/e3q8)\n"
     ]
    }
   ],
   "source": [
    "%%sql\n",
    "\n",
    "SELECT Title, Program1.Program_Name\n",
    "FROM Course_Facts\n",
    "JOIN Program1 ON Course_Facts.PID = Program1.PID\n",
    "GROUP BY Title\n",
    "LIMIT 25;"
   ]
  },
  {
   "cell_type": "markdown",
   "metadata": {},
   "source": [
    "What rooms historically have large capacity classes?"
   ]
  },
  {
   "cell_type": "code",
   "execution_count": 8,
   "metadata": {},
   "outputs": [
    {
     "name": "stdout",
     "output_type": "stream",
     "text": [
      " * sqlite:///CourseDataWarehouse.db\n",
      "(sqlite3.OperationalError) no such table: Course_Facts [SQL: 'SELECT DISTINCT (Location.Room), Capacity\\nFROM Course_Facts\\nJOIN Location ON Course_Facts.LID = Location.LID\\nORDER BY Capacity DESC\\nLIMIT 10;'] (Background on this error at: http://sqlalche.me/e/e3q8)\n"
     ]
    }
   ],
   "source": [
    "%%sql\n",
    "\n",
    "SELECT DISTINCT (Location.Room), Capacity\n",
    "FROM Course_Facts\n",
    "JOIN Location ON Course_Facts.LID = Location.LID\n",
    "ORDER BY Capacity DESC\n",
    "LIMIT 10;"
   ]
  },
  {
   "cell_type": "markdown",
   "metadata": {},
   "source": [
    "What class titles are in the Accounting Program?"
   ]
  },
  {
   "cell_type": "code",
   "execution_count": 9,
   "metadata": {},
   "outputs": [
    {
     "name": "stdout",
     "output_type": "stream",
     "text": [
      " * sqlite:///CourseDataWarehouse.db\n",
      "(sqlite3.OperationalError) no such table: Course_Facts [SQL: \"SELECT Title\\nFROM Course_Facts\\nJOIN Program1 ON Course_Facts.PID = Program1.PID\\nWHERE Program_Name IS 'Accounting'\\nGROUP BY Title\\nLIMIT 25;\"] (Background on this error at: http://sqlalche.me/e/e3q8)\n"
     ]
    }
   ],
   "source": [
    "%%sql\n",
    "\n",
    "SELECT Title\n",
    "FROM Course_Facts\n",
    "JOIN Program1 ON Course_Facts.PID = Program1.PID\n",
    "WHERE Program_Name IS 'Accounting'\n",
    "GROUP BY Title\n",
    "LIMIT 25;"
   ]
  },
  {
   "cell_type": "markdown",
   "metadata": {},
   "source": [
    "How many students have Dr. Huntley and Dr. Massey taught?\n"
   ]
  },
  {
   "cell_type": "code",
   "execution_count": 10,
   "metadata": {},
   "outputs": [
    {
     "name": "stdout",
     "output_type": "stream",
     "text": [
      " * sqlite:///CourseDataWarehouse.db\n",
      "(sqlite3.OperationalError) no such table: Courses [SQL: \"SELECT Faculty_Name, SUM(Actual) AS Total_Taught\\nFROM Courses\\nWHERE Faculty_Name LIKE '%Huntley%' OR Faculty_Name LIKE '%Massey%'\\nGROUP BY Faculty_Name\\nORDER BY Total_Taught DESC\\nLIMIT 20;\"] (Background on this error at: http://sqlalche.me/e/e3q8)\n"
     ]
    }
   ],
   "source": [
    "%%sql\n",
    "SELECT Faculty_Name, SUM(Actual) AS Total_Taught\n",
    "FROM Courses\n",
    "WHERE Faculty_Name LIKE '%Huntley%' OR Faculty_Name LIKE '%Massey%'\n",
    "GROUP BY Faculty_Name\n",
    "ORDER BY Total_Taught DESC\n",
    "LIMIT 20;"
   ]
  },
  {
   "cell_type": "code",
   "execution_count": null,
   "metadata": {},
   "outputs": [],
   "source": []
  }
 ],
 "metadata": {
  "kernelspec": {
   "display_name": "Python 3",
   "language": "python",
   "name": "python3"
  },
  "language_info": {
   "codemirror_mode": {
    "name": "ipython",
    "version": 3
   },
   "file_extension": ".py",
   "mimetype": "text/x-python",
   "name": "python",
   "nbconvert_exporter": "python",
   "pygments_lexer": "ipython3",
   "version": "3.6.5"
  }
 },
 "nbformat": 4,
 "nbformat_minor": 2
}
