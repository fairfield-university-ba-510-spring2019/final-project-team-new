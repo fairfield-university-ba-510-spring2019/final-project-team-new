{
 "cells": [
  {
   "cell_type": "code",
   "execution_count": null,
   "metadata": {},
   "outputs": [],
   "source": [
    "##What professors have taught the most classes\n",
    "%%sql\n",
    "SELECT Faculty_Name, COUNT(DISTINCT Cat_ID) AS Classes_Taught\n",
    "FROM Courses\n",
    "    JOIN Faculty USING FID\n",
    "WHERE Actual > 10\n",
    "GROUP BY Classes_Taught DESC;"
   ]
  },
  {
   "cell_type": "code",
   "execution_count": null,
   "metadata": {},
   "outputs": [],
   "source": [
    "##Total students professors have taught\n",
    "%%sql\n",
    "SELECT Faculty_Name, SUM(Actual) AS Total_Taught\n",
    "FROM Courses\n",
    "    JOIN Faculty USING FID\n",
    "WHERE Actual > 10\n",
    "SORT BY Total_Taught DESC;"
   ]
  },
  {
   "cell_type": "code",
   "execution_count": null,
   "metadata": {},
   "outputs": [],
   "source": [
    "##What days are popular for certain classes\n",
    "%%sql\n",
    "SELECT DISTINCT Cat_ID AS Class_Type, Day, COUNT(Day) AS Num_Days\n",
    "FROM Courses\n",
    "    JOIN Course_Meeting USING CRN\n",
    "WHERE Actual > 10\n",
    "SORT BY Num_Days DESC;"
   ]
  },
  {
   "cell_type": "code",
   "execution_count": null,
   "metadata": {},
   "outputs": [],
   "source": [
    "##What classes are popular with certain professors\n",
    "%%sql\n",
    "SELECT Cat_ID, Faculty_Name, Remaining\n",
    "FROM Courses\n",
    "    JOIN Course_Meeting USING CRN\n",
    "    JOIN Faculty USING FID\n",
    "WHERE Actual > 10\n",
    "SORT BY Remaining;"
   ]
  },
  {
   "cell_type": "code",
   "execution_count": null,
   "metadata": {},
   "outputs": [],
   "source": [
    "##What classes are popular at certain times\n",
    "%%sql\n",
    "SELECT Cat_ID, Start_Time, Remaining\n",
    "FROM Courses\n",
    "    JOIN Course_Meeting USING CRN\n",
    "WHERE Actual > 10\n",
    "SORT BY Remaining;"
   ]
  },
  {
   "cell_type": "code",
   "execution_count": null,
   "metadata": {},
   "outputs": [],
   "source": [
    "##How many students did internships for credit\n",
    "%%sql\n",
    "SELECT Title, Sum(Actual) AS Total_Students\n",
    "FROM Courses\n",
    "WHERE Title = \"Internship\";"
   ]
  },
  {
   "cell_type": "code",
   "execution_count": null,
   "metadata": {},
   "outputs": [],
   "source": [
    "##How many students took AC 11 by term\n",
    "%%sql\n",
    "SELECT Cat_ID, Term, Sum(Actual) AS Total_Students\n",
    "FROM Courses\n",
    "WHERE = \"AC 0011\"\n",
    "GROUP BY Term\n",
    "SORT BY DESC;"
   ]
  },
  {
   "cell_type": "code",
   "execution_count": null,
   "metadata": {},
   "outputs": [],
   "source": [
    "##What class by term has had the most sections\n",
    "%%sql \n",
    "SELECT Cat_ID, Term, COUNT(section) AS Num_Sections\n",
    "FROM Courses\n",
    "GROUP BY Term\n",
    "SORT BY Num_Sections DESC;"
   ]
  },
  {
   "cell_type": "code",
   "execution_count": null,
   "metadata": {},
   "outputs": [],
   "source": [
    "##What classes has Huntley taught by semester\n",
    "%%sql\n",
    "SELECT Faculty_Name, Term, Cat_ID, title\n",
    "FROM Courses\n",
    "    JOIN Faculty USING FID\n",
    "WHERE Faculty_Name = \"%Huntley%\"\n",
    "SORT BY Term;"
   ]
  },
  {
   "cell_type": "code",
   "execution_count": null,
   "metadata": {},
   "outputs": [],
   "source": [
    "#What classes has Massey taught by semester\n",
    "%%sql\n",
    "SELECT Faculty_Name, Term, Cat_ID, title\n",
    "FROM Courses\n",
    "    JOIN Faculty USING FID\n",
    "WHERE Faculty_Name = \"%Massey%\"\n",
    "SORT BY Term;"
   ]
  }
 ],
 "metadata": {
  "kernelspec": {
   "display_name": "Python 3",
   "language": "python",
   "name": "python3"
  },
  "language_info": {
   "codemirror_mode": {
    "name": "ipython",
    "version": 3
   },
   "file_extension": ".py",
   "mimetype": "text/x-python",
   "name": "python",
   "nbconvert_exporter": "python",
   "pygments_lexer": "ipython3",
   "version": "3.6.5"
  }
 },
 "nbformat": 4,
 "nbformat_minor": 2
}
