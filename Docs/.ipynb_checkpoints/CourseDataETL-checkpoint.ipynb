{
 "cells": [
  {
   "cell_type": "markdown",
   "metadata": {},
   "source": [
    "### load imports"
   ]
  },
  {
   "cell_type": "code",
   "execution_count": 1,
   "metadata": {},
   "outputs": [],
   "source": [
    "%load_ext sql\n",
    "import pandas as pd\n",
    "import sqlite3"
   ]
  },
  {
   "cell_type": "code",
   "execution_count": 2,
   "metadata": {},
   "outputs": [],
   "source": [
    "%sql sqlite:///CourseData.db\n",
    "conn = sqlite3.connect('CourseData.db')"
   ]
  },
  {
   "cell_type": "code",
   "execution_count": 3,
   "metadata": {},
   "outputs": [
    {
     "name": "stdout",
     "output_type": "stream",
     "text": [
      " * sqlite:///CourseData.db\n",
      "Done.\n",
      "Done.\n",
      "Done.\n",
      "Done.\n",
      "Done.\n",
      "Done.\n",
      "Done.\n",
      "Done.\n"
     ]
    },
    {
     "data": {
      "text/plain": [
       "[]"
      ]
     },
     "execution_count": 3,
     "metadata": {},
     "output_type": "execute_result"
    }
   ],
   "source": [
    "%%sql\n",
    "DROP TABLE IF EXISTS Courses;\n",
    "DROP TABLE IF EXISTS Course_Meeting;\n",
    "DROP TABLE IF EXISTS Catalog;\n",
    "DROP TABLE IF EXISTS Program;\n",
    "DROP TABLE IF EXISTS Fees;\n",
    "\n",
    "\n",
    "DROP TABLE IF EXISTS IMPORT_COURSE_OFFERINGS;\n",
    "DROP TABLE IF EXISTS IMPORT_COURSE_MEETINGS;\n",
    "DROP TABLE IF EXISTS IMPORT_CATALOG_COURSES;\n"
   ]
  },
  {
   "cell_type": "markdown",
   "metadata": {},
   "source": [
    "##### we loaded the CSV files in the terminal window\n",
    "\n",
    "##### Create ERD tables"
   ]
  },
  {
   "cell_type": "code",
   "execution_count": 4,
   "metadata": {},
   "outputs": [
    {
     "name": "stdout",
     "output_type": "stream",
     "text": [
      " * sqlite:///CourseData.db\n",
      "Done.\n"
     ]
    },
    {
     "data": {
      "text/plain": [
       "[]"
      ]
     },
     "execution_count": 4,
     "metadata": {},
     "output_type": "execute_result"
    }
   ],
   "source": [
    "%%sql\n",
    "\n",
    "CREATE TABLE Courses (\n",
    "    CRN SMALLINT,\n",
    "    Term VARCHAR(20),\n",
    "    Section VARCHAR(10),\n",
    "    Cat_ID VARCHAR(10),\n",
    "    Faculty_Name VARCHAR(10),\n",
    "    Credits TINYINT,\n",
    "    Capacity SMALLINT,\n",
    "    Actual SMALLINT,\n",
    "    Remaining SMALLINT,\n",
    "    PRIMARY KEY (CRN, Term),\n",
    "    FOREIGN KEY(Cat_ID) REFERENCES Catalog(Cat_ID)\n",
    ");"
   ]
  },
  {
   "cell_type": "code",
   "execution_count": 5,
   "metadata": {},
   "outputs": [
    {
     "name": "stdout",
     "output_type": "stream",
     "text": [
      " * sqlite:///CourseData.db\n",
      "Done.\n"
     ]
    },
    {
     "data": {
      "text/plain": [
       "[]"
      ]
     },
     "execution_count": 5,
     "metadata": {},
     "output_type": "execute_result"
    }
   ],
   "source": [
    "%%sql\n",
    "\n",
    "CREATE TABLE Course_Meeting (\n",
    "    MID INTEGER PRIMARY KEY,\n",
    "    CRN SMALLINT,\n",
    "    Term VARCHAR(20),\n",
    "    Room TEXT,\n",
    "    Day TEXT,\n",
    "    Start_Time TIME,\n",
    "    End_Time TIME,  \n",
    "    FOREIGN KEY(CRN,Term) REFERENCES Courses(CRN,Term)\n",
    ");"
   ]
  },
  {
   "cell_type": "code",
   "execution_count": 6,
   "metadata": {},
   "outputs": [
    {
     "name": "stdout",
     "output_type": "stream",
     "text": [
      " * sqlite:///CourseData.db\n",
      "Done.\n"
     ]
    },
    {
     "data": {
      "text/plain": [
       "[]"
      ]
     },
     "execution_count": 6,
     "metadata": {},
     "output_type": "execute_result"
    }
   ],
   "source": [
    "\n",
    "%%sql\n",
    "\n",
    "CREATE TABLE Catalog (\n",
    "    Cat_ID VARCHAR(10) PRIMARY KEY,\n",
    "    Prg_Code VARCHAR(5),\n",
    "    Title VARCHAR(150),\n",
    "    Prerequisites VARCHAR(10),\n",
    "    Corequisites VARCHAR(10),\n",
    "    FOREIGN KEY(Prg_Code) REFERENCES Program(Prg_Code)\n",
    ");"
   ]
  },
  {
   "cell_type": "code",
   "execution_count": 7,
   "metadata": {},
   "outputs": [
    {
     "name": "stdout",
     "output_type": "stream",
     "text": [
      " * sqlite:///CourseData.db\n",
      "Done.\n"
     ]
    },
    {
     "data": {
      "text/plain": [
       "[]"
      ]
     },
     "execution_count": 7,
     "metadata": {},
     "output_type": "execute_result"
    }
   ],
   "source": [
    "%%sql\n",
    "\n",
    "CREATE TABLE Program (\n",
    "    Prg_Code VARCHAR(10) PRIMARY KEY,\n",
    "    Program_Name VARCHAR(150)\n",
    ");"
   ]
  },
  {
   "cell_type": "code",
   "execution_count": 8,
   "metadata": {},
   "outputs": [
    {
     "name": "stdout",
     "output_type": "stream",
     "text": [
      " * sqlite:///CourseData.db\n",
      "Done.\n"
     ]
    },
    {
     "data": {
      "text/plain": [
       "[]"
      ]
     },
     "execution_count": 8,
     "metadata": {},
     "output_type": "execute_result"
    }
   ],
   "source": [
    "%%sql\n",
    "\n",
    "CREATE TABLE Fees (\n",
    "    Cat_ID VARCHAR(10),\n",
    "    Academic_Year VARCHAR(20),\n",
    "    Fee TEXT,\n",
    "    PRIMARY KEY (Cat_ID, Academic_Year)\n",
    "    FOREIGN KEY(Cat_ID) REFERENCES Catalog(Cat_ID)\n",
    ");"
   ]
  },
  {
   "cell_type": "code",
   "execution_count": 9,
   "metadata": {},
   "outputs": [],
   "source": [
    "\n",
    "#Catalog Data\n",
    "catalog_years = ['2017_2018', '2018_2019']\n",
    "\n",
    "for cat_year in catalog_years:\n",
    "    filepath = '../SourceData/Catalogs/CourseCatalog'+cat_year+'.csv'\n",
    "    data = pd.read_csv(filepath)\n",
    "    data['cat_year'] = cat_year\n",
    "    data.to_sql('IMPORT_CATALOG_COURSES',conn,if_exists='append',index=False)"
   ]
  },
  {
   "cell_type": "code",
   "execution_count": 10,
   "metadata": {},
   "outputs": [],
   "source": [
    "#Course Offering and Course Meeting Data\n",
    "terms = ['Fall2014','Fall2015','Fall2016','Fall2017','Fall2018',\n",
    "         'Spring2015','Spring2016','Spring2017','Spring2018','Spring2019',\n",
    "        'SpringBreak2017',\n",
    "         'Summer2015','Summer2016','Summer2017','Summer2018',\n",
    "         'Winter2015','Winter2016','Winter2017','Winter2018']\n",
    "\n",
    "for term in terms:\n",
    "    filepath = '../SourceData/'+term+'/courses.csv'\n",
    "    data = pd.read_csv(filepath)\n",
    "    data.to_sql('IMPORT_COURSE_OFFERINGS',conn,if_exists='append',index=False) \n",
    "    \n",
    "    filepath = '../SourceData/'+term+'/course_meetings.csv'\n",
    "    data = pd.read_csv(filepath)\n",
    "    data.to_sql('IMPORT_COURSE_MEETINGS',conn,if_exists='append',index=False)"
   ]
  },
  {
   "cell_type": "markdown",
   "metadata": {},
   "source": [
    "\n",
    "\n",
    "##### Insert into ERD tables\n"
   ]
  },
  {
   "cell_type": "code",
   "execution_count": 11,
   "metadata": {},
   "outputs": [
    {
     "name": "stdout",
     "output_type": "stream",
     "text": [
      " * sqlite:///CourseData.db\n",
      "83 rows affected.\n"
     ]
    },
    {
     "data": {
      "text/plain": [
       "[]"
      ]
     },
     "execution_count": 11,
     "metadata": {},
     "output_type": "execute_result"
    }
   ],
   "source": [
    "\n",
    "%%sql\n",
    "\n",
    "INSERT INTO Program (Prg_Code, Program_Name)\n",
    "SELECT DISTINCT program_code, program_name \n",
    "FROM IMPORT_CATALOG_COURSES;"
   ]
  },
  {
   "cell_type": "code",
   "execution_count": 12,
   "metadata": {},
   "outputs": [
    {
     "name": "stdout",
     "output_type": "stream",
     "text": [
      " * sqlite:///CourseData.db\n",
      "2220 rows affected.\n"
     ]
    },
    {
     "data": {
      "text/plain": [
       "[]"
      ]
     },
     "execution_count": 12,
     "metadata": {},
     "output_type": "execute_result"
    }
   ],
   "source": [
    "%%sql\n",
    "\n",
    "INSERT INTO Catalog (Cat_ID, Prg_Code, Title, Prerequisites, Corequisites)\n",
    "SELECT DISTINCT catalog_id, program_code, course_title,prereqs,coreqs\n",
    "FROM IMPORT_CATALOG_COURSES \n",
    "    JOIN Program ON (Prg_Code = program_code);"
   ]
  },
  {
   "cell_type": "code",
   "execution_count": 13,
   "metadata": {},
   "outputs": [
    {
     "name": "stdout",
     "output_type": "stream",
     "text": [
      " * sqlite:///CourseData.db\n",
      "311141 rows affected.\n"
     ]
    },
    {
     "data": {
      "text/plain": [
       "[]"
      ]
     },
     "execution_count": 13,
     "metadata": {},
     "output_type": "execute_result"
    }
   ],
   "source": [
    "%%sql\n",
    "\n",
    "INSERT INTO Course_Meeting (CRN, Term, Room, Day, Start_Time, End_Time)\n",
    "SELECT DISTINCT crn, term, location, day, start, end\n",
    "FROM IMPORT_COURSE_MEETINGS;\n"
   ]
  },
  {
   "cell_type": "code",
   "execution_count": 14,
   "metadata": {},
   "outputs": [
    {
     "name": "stdout",
     "output_type": "stream",
     "text": [
      " * sqlite:///CourseData.db\n",
      "15937 rows affected.\n"
     ]
    },
    {
     "data": {
      "text/plain": [
       "[]"
      ]
     },
     "execution_count": 14,
     "metadata": {},
     "output_type": "execute_result"
    }
   ],
   "source": [
    "%%sql\n",
    "\n",
    "INSERT INTO Courses (CRN, Term, Section, Cat_ID, Faculty_Name, Credits, Capacity, Actual, Remaining)\n",
    "SELECT DISTINCT IMPORT_COURSE_OFFERINGS.crn, IMPORT_COURSE_OFFERINGS.term, section, catalog_id, primary_instructor, credits, cap, act, rem\n",
    "FROM IMPORT_COURSE_OFFERINGS\n",
    "    LEFT JOIN Course_Meeting ON Course_Meeting.CRN = IMPORT_COURSE_OFFERINGS.crn AND Course_Meeting.Term = IMPORT_COURSE_OFFERINGS.term\n",
    "    LEFT JOIN Catalog ON Catalog.Cat_ID = IMPORT_COURSE_OFFERINGS.catalog_id;"
   ]
  },
  {
   "cell_type": "code",
   "execution_count": 15,
   "metadata": {},
   "outputs": [
    {
     "name": "stdout",
     "output_type": "stream",
     "text": [
      " * sqlite:///CourseData.db\n",
      "4440 rows affected.\n"
     ]
    },
    {
     "data": {
      "text/plain": [
       "[]"
      ]
     },
     "execution_count": 15,
     "metadata": {},
     "output_type": "execute_result"
    }
   ],
   "source": [
    "%%sql\n",
    "\n",
    "INSERT INTO Fees (Cat_ID, Academic_Year, Fee )\n",
    "SELECT DISTINCT catalog_id, cat_year, fees\n",
    "FROM IMPORT_CATALOG_COURSES\n",
    "    LEFT JOIN Catalog ON Catalog.Cat_ID = IMPORT_CATALOG_COURSES.catalog_id;   "
   ]
  },
  {
   "cell_type": "code",
   "execution_count": 16,
   "metadata": {},
   "outputs": [
    {
     "name": "stdout",
     "output_type": "stream",
     "text": [
      " * sqlite:///CourseData.db\n",
      "Done.\n",
      "Done.\n",
      "Done.\n",
      "Done.\n",
      "Done.\n"
     ]
    },
    {
     "data": {
      "text/plain": [
       "[]"
      ]
     },
     "execution_count": 16,
     "metadata": {},
     "output_type": "execute_result"
    }
   ],
   "source": [
    "%%sql\n",
    "\n",
    "DROP TABLE IF EXISTS Location;\n",
    "DROP TABLE IF EXISTS Course_Facts;\n",
    "DROP TABLE IF EXISTS Meeting;\n",
    "DROP TABLE IF EXISTS Fees;\n",
    "DROP TABLE IF EXISTS Program1;\n"
   ]
  },
  {
   "cell_type": "code",
   "execution_count": 17,
   "metadata": {},
   "outputs": [
    {
     "name": "stdout",
     "output_type": "stream",
     "text": [
      " * sqlite:///CourseData.db\n",
      "Done.\n"
     ]
    },
    {
     "data": {
      "text/plain": [
       "[]"
      ]
     },
     "execution_count": 17,
     "metadata": {},
     "output_type": "execute_result"
    }
   ],
   "source": [
    "%%sql\n",
    "\n",
    "CREATE TABLE Location (\n",
    "    LID INTEGER PRIMARY KEY,\n",
    "    Room TEXT\n",
    ");"
   ]
  },
  {
   "cell_type": "code",
   "execution_count": 18,
   "metadata": {},
   "outputs": [
    {
     "name": "stdout",
     "output_type": "stream",
     "text": [
      " * sqlite:///CourseData.db\n",
      "207 rows affected.\n"
     ]
    },
    {
     "data": {
      "text/plain": [
       "[]"
      ]
     },
     "execution_count": 18,
     "metadata": {},
     "output_type": "execute_result"
    }
   ],
   "source": [
    "%%sql\n",
    "\n",
    "INSERT INTO Location (Room)\n",
    "SELECT DISTINCT Room \n",
    "FROM Course_Meeting;"
   ]
  },
  {
   "cell_type": "code",
   "execution_count": 19,
   "metadata": {},
   "outputs": [
    {
     "name": "stdout",
     "output_type": "stream",
     "text": [
      " * sqlite:///CourseData.db\n",
      "Done.\n"
     ]
    },
    {
     "data": {
      "text/plain": [
       "[]"
      ]
     },
     "execution_count": 19,
     "metadata": {},
     "output_type": "execute_result"
    }
   ],
   "source": [
    "%%sql\n",
    "\n",
    "CREATE TABLE Program1 (\n",
    "    PID INTEGER PRIMARY KEY,\n",
    "    Prg_Code VARCHAR(10),\n",
    "    Program_Name VARCHAR(150)\n",
    ");"
   ]
  },
  {
   "cell_type": "code",
   "execution_count": 20,
   "metadata": {},
   "outputs": [
    {
     "name": "stdout",
     "output_type": "stream",
     "text": [
      " * sqlite:///CourseData.db\n",
      "83 rows affected.\n"
     ]
    },
    {
     "data": {
      "text/plain": [
       "[]"
      ]
     },
     "execution_count": 20,
     "metadata": {},
     "output_type": "execute_result"
    }
   ],
   "source": [
    "%%sql\n",
    "\n",
    "INSERT INTO Program1 (Prg_Code, Program_Name)\n",
    "SELECT DISTINCT program_code, program_name \n",
    "FROM IMPORT_CATALOG_COURSES;"
   ]
  },
  {
   "cell_type": "code",
   "execution_count": 21,
   "metadata": {},
   "outputs": [
    {
     "name": "stdout",
     "output_type": "stream",
     "text": [
      " * sqlite:///CourseData.db\n",
      "Done.\n"
     ]
    },
    {
     "data": {
      "text/plain": [
       "[]"
      ]
     },
     "execution_count": 21,
     "metadata": {},
     "output_type": "execute_result"
    }
   ],
   "source": [
    "%%sql\n",
    "\n",
    "CREATE TABLE Meeting (\n",
    "    MID INTEGER PRIMARY KEY,\n",
    "    Cat_ID TEXT,\n",
    "    Day TEXT,\n",
    "    Start_Time TIME,\n",
    "    End_Time TIME  \n",
    ");"
   ]
  },
  {
   "cell_type": "code",
   "execution_count": 22,
   "metadata": {},
   "outputs": [
    {
     "name": "stdout",
     "output_type": "stream",
     "text": [
      " * sqlite:///CourseData.db\n",
      "42551 rows affected.\n"
     ]
    },
    {
     "data": {
      "text/plain": [
       "[]"
      ]
     },
     "execution_count": 22,
     "metadata": {},
     "output_type": "execute_result"
    }
   ],
   "source": [
    "%%sql\n",
    "\n",
    "INSERT INTO Meeting (Day, Start_Time, End_Time)\n",
    "SELECT DISTINCT day, start, end\n",
    "FROM IMPORT_COURSE_MEETINGS\n"
   ]
  },
  {
   "cell_type": "code",
   "execution_count": 23,
   "metadata": {},
   "outputs": [
    {
     "name": "stdout",
     "output_type": "stream",
     "text": [
      " * sqlite:///CourseData.db\n",
      "Done.\n"
     ]
    },
    {
     "data": {
      "text/plain": [
       "[]"
      ]
     },
     "execution_count": 23,
     "metadata": {},
     "output_type": "execute_result"
    }
   ],
   "source": [
    "%%sql\n",
    "\n",
    "CREATE TABLE Fees (\n",
    "    Fee_ID INTEGER PRIMARY KEY,\n",
    "    Cat_ID VARCHAR(10),\n",
    "    Academic_Year VARCHAR(20),\n",
    "    Amount VARCHAR(50) \n",
    ");"
   ]
  },
  {
   "cell_type": "code",
   "execution_count": 24,
   "metadata": {},
   "outputs": [
    {
     "name": "stdout",
     "output_type": "stream",
     "text": [
      " * sqlite:///CourseData.db\n",
      "4440 rows affected.\n"
     ]
    },
    {
     "data": {
      "text/plain": [
       "[]"
      ]
     },
     "execution_count": 24,
     "metadata": {},
     "output_type": "execute_result"
    }
   ],
   "source": [
    "%%sql\n",
    "\n",
    "INSERT INTO Fees (Cat_ID, Academic_Year, Amount )\n",
    "SELECT DISTINCT catalog_id, cat_year, fees\n",
    "FROM IMPORT_CATALOG_COURSES;\n"
   ]
  },
  {
   "cell_type": "code",
   "execution_count": 25,
   "metadata": {},
   "outputs": [
    {
     "name": "stdout",
     "output_type": "stream",
     "text": [
      " * sqlite:///CourseData.db\n",
      "Done.\n"
     ]
    },
    {
     "data": {
      "text/plain": [
       "[]"
      ]
     },
     "execution_count": 25,
     "metadata": {},
     "output_type": "execute_result"
    }
   ],
   "source": [
    "%%sql\n",
    "\n",
    "CREATE TABLE Course_Facts (\n",
    "    CRN SMALLINT,\n",
    "    Term VARCHAR(20),\n",
    "    Faculty_Name VARCHAR(10),\n",
    "    Title VARCHAR(100),\n",
    "    Section VARCHAR(10),\n",
    "    Cat_ID VARCHAR(10),\n",
    "    LID VARCHAR(10),\n",
    "    MID VARCHAR(10),\n",
    "    PID VARCHAR(10),\n",
    "    FEE_ID VARCHAR(10),\n",
    "    Capacity SMALLINT,\n",
    "    Actual SMALLINT,\n",
    "    Remaining SMALLINT\n",
    ");"
   ]
  },
  {
   "cell_type": "code",
   "execution_count": 26,
   "metadata": {},
   "outputs": [
    {
     "name": "stdout",
     "output_type": "stream",
     "text": [
      " * sqlite:///CourseData.db\n",
      "2289550 rows affected.\n"
     ]
    },
    {
     "data": {
      "text/plain": [
       "[]"
      ]
     },
     "execution_count": 26,
     "metadata": {},
     "output_type": "execute_result"
    }
   ],
   "source": [
    "%%sql\n",
    "INSERT INTO Course_Facts (CRN, Term, Faculty_Name,Title, Cat_ID,PID, Section,Capacity,Actual,Remaining, LID, MID, Fee_Id)\n",
    "SELECT Courses.CRN, Courses.Term, Faculty_Name,Catalog.Title, Courses.Cat_ID, Program1.PID,  Section, Capacity, Actual, Remaining, Location.LID, Meeting.MID, Fees.Fee_ID\n",
    "FROM Courses\n",
    "    LEFT JOIN Catalog USING (Cat_ID)\n",
    "    LEFT JOIN Program1 USING (Prg_Code)\n",
    "    LEFT JOIN Course_Meeting ON Course_Meeting.CRN = Courses.CRN AND Course_Meeting.Term = Courses.Term\n",
    "    LEFT JOIN Location ON Course_Meeting.Room = Location.Room\n",
    "    LEFT JOIN Meeting ON Course_Meeting.Start_Time = Meeting.Start_Time\n",
    "    LEFT JOIN Fees on Fees.Cat_ID = Catalog.Cat_ID;\n",
    "    \n",
    "    "
   ]
  },
  {
   "cell_type": "code",
   "execution_count": 27,
   "metadata": {},
   "outputs": [
    {
     "name": "stdout",
     "output_type": "stream",
     "text": [
      " * sqlite:///CourseData.db\n",
      "Done.\n"
     ]
    },
    {
     "data": {
      "text/html": [
       "<table>\n",
       "    <tr>\n",
       "        <th>CRN</th>\n",
       "        <th>Term</th>\n",
       "        <th>Faculty_Name</th>\n",
       "        <th>Title</th>\n",
       "        <th>Section</th>\n",
       "        <th>Cat_ID</th>\n",
       "        <th>LID</th>\n",
       "        <th>MID</th>\n",
       "        <th>PID</th>\n",
       "        <th>FEE_ID</th>\n",
       "        <th>Capacity</th>\n",
       "        <th>Actual</th>\n",
       "        <th>Remaining</th>\n",
       "    </tr>\n",
       "    <tr>\n",
       "        <td>70384</td>\n",
       "        <td>Fall2014</td>\n",
       "        <td>Michael P.  Coyne</td>\n",
       "        <td>Introduction to Financial Accounting</td>\n",
       "        <td>C01</td>\n",
       "        <td>AC 0011</td>\n",
       "        <td>1</td>\n",
       "        <td>1</td>\n",
       "        <td>12</td>\n",
       "        <td>113</td>\n",
       "        <td>0</td>\n",
       "        <td>31</td>\n",
       "        <td>-31</td>\n",
       "    </tr>\n",
       "    <tr>\n",
       "        <td>70384</td>\n",
       "        <td>Fall2014</td>\n",
       "        <td>Michael P.  Coyne</td>\n",
       "        <td>Introduction to Financial Accounting</td>\n",
       "        <td>C01</td>\n",
       "        <td>AC 0011</td>\n",
       "        <td>1</td>\n",
       "        <td>1</td>\n",
       "        <td>12</td>\n",
       "        <td>2333</td>\n",
       "        <td>0</td>\n",
       "        <td>31</td>\n",
       "        <td>-31</td>\n",
       "    </tr>\n",
       "    <tr>\n",
       "        <td>70384</td>\n",
       "        <td>Fall2014</td>\n",
       "        <td>Michael P.  Coyne</td>\n",
       "        <td>Introduction to Financial Accounting</td>\n",
       "        <td>C01</td>\n",
       "        <td>AC 0011</td>\n",
       "        <td>1</td>\n",
       "        <td>1472</td>\n",
       "        <td>12</td>\n",
       "        <td>113</td>\n",
       "        <td>0</td>\n",
       "        <td>31</td>\n",
       "        <td>-31</td>\n",
       "    </tr>\n",
       "    <tr>\n",
       "        <td>70384</td>\n",
       "        <td>Fall2014</td>\n",
       "        <td>Michael P.  Coyne</td>\n",
       "        <td>Introduction to Financial Accounting</td>\n",
       "        <td>C01</td>\n",
       "        <td>AC 0011</td>\n",
       "        <td>1</td>\n",
       "        <td>1472</td>\n",
       "        <td>12</td>\n",
       "        <td>2333</td>\n",
       "        <td>0</td>\n",
       "        <td>31</td>\n",
       "        <td>-31</td>\n",
       "    </tr>\n",
       "    <tr>\n",
       "        <td>70384</td>\n",
       "        <td>Fall2014</td>\n",
       "        <td>Michael P.  Coyne</td>\n",
       "        <td>Introduction to Financial Accounting</td>\n",
       "        <td>C01</td>\n",
       "        <td>AC 0011</td>\n",
       "        <td>1</td>\n",
       "        <td>3123</td>\n",
       "        <td>12</td>\n",
       "        <td>113</td>\n",
       "        <td>0</td>\n",
       "        <td>31</td>\n",
       "        <td>-31</td>\n",
       "    </tr>\n",
       "    <tr>\n",
       "        <td>70384</td>\n",
       "        <td>Fall2014</td>\n",
       "        <td>Michael P.  Coyne</td>\n",
       "        <td>Introduction to Financial Accounting</td>\n",
       "        <td>C01</td>\n",
       "        <td>AC 0011</td>\n",
       "        <td>1</td>\n",
       "        <td>3123</td>\n",
       "        <td>12</td>\n",
       "        <td>2333</td>\n",
       "        <td>0</td>\n",
       "        <td>31</td>\n",
       "        <td>-31</td>\n",
       "    </tr>\n",
       "    <tr>\n",
       "        <td>70384</td>\n",
       "        <td>Fall2014</td>\n",
       "        <td>Michael P.  Coyne</td>\n",
       "        <td>Introduction to Financial Accounting</td>\n",
       "        <td>C01</td>\n",
       "        <td>AC 0011</td>\n",
       "        <td>1</td>\n",
       "        <td>2</td>\n",
       "        <td>12</td>\n",
       "        <td>113</td>\n",
       "        <td>0</td>\n",
       "        <td>31</td>\n",
       "        <td>-31</td>\n",
       "    </tr>\n",
       "    <tr>\n",
       "        <td>70384</td>\n",
       "        <td>Fall2014</td>\n",
       "        <td>Michael P.  Coyne</td>\n",
       "        <td>Introduction to Financial Accounting</td>\n",
       "        <td>C01</td>\n",
       "        <td>AC 0011</td>\n",
       "        <td>1</td>\n",
       "        <td>2</td>\n",
       "        <td>12</td>\n",
       "        <td>2333</td>\n",
       "        <td>0</td>\n",
       "        <td>31</td>\n",
       "        <td>-31</td>\n",
       "    </tr>\n",
       "    <tr>\n",
       "        <td>70384</td>\n",
       "        <td>Fall2014</td>\n",
       "        <td>Michael P.  Coyne</td>\n",
       "        <td>Introduction to Financial Accounting</td>\n",
       "        <td>C01</td>\n",
       "        <td>AC 0011</td>\n",
       "        <td>1</td>\n",
       "        <td>1473</td>\n",
       "        <td>12</td>\n",
       "        <td>113</td>\n",
       "        <td>0</td>\n",
       "        <td>31</td>\n",
       "        <td>-31</td>\n",
       "    </tr>\n",
       "    <tr>\n",
       "        <td>70384</td>\n",
       "        <td>Fall2014</td>\n",
       "        <td>Michael P.  Coyne</td>\n",
       "        <td>Introduction to Financial Accounting</td>\n",
       "        <td>C01</td>\n",
       "        <td>AC 0011</td>\n",
       "        <td>1</td>\n",
       "        <td>1473</td>\n",
       "        <td>12</td>\n",
       "        <td>2333</td>\n",
       "        <td>0</td>\n",
       "        <td>31</td>\n",
       "        <td>-31</td>\n",
       "    </tr>\n",
       "    <tr>\n",
       "        <td>70384</td>\n",
       "        <td>Fall2014</td>\n",
       "        <td>Michael P.  Coyne</td>\n",
       "        <td>Introduction to Financial Accounting</td>\n",
       "        <td>C01</td>\n",
       "        <td>AC 0011</td>\n",
       "        <td>1</td>\n",
       "        <td>3</td>\n",
       "        <td>12</td>\n",
       "        <td>113</td>\n",
       "        <td>0</td>\n",
       "        <td>31</td>\n",
       "        <td>-31</td>\n",
       "    </tr>\n",
       "    <tr>\n",
       "        <td>70384</td>\n",
       "        <td>Fall2014</td>\n",
       "        <td>Michael P.  Coyne</td>\n",
       "        <td>Introduction to Financial Accounting</td>\n",
       "        <td>C01</td>\n",
       "        <td>AC 0011</td>\n",
       "        <td>1</td>\n",
       "        <td>3</td>\n",
       "        <td>12</td>\n",
       "        <td>2333</td>\n",
       "        <td>0</td>\n",
       "        <td>31</td>\n",
       "        <td>-31</td>\n",
       "    </tr>\n",
       "    <tr>\n",
       "        <td>70384</td>\n",
       "        <td>Fall2014</td>\n",
       "        <td>Michael P.  Coyne</td>\n",
       "        <td>Introduction to Financial Accounting</td>\n",
       "        <td>C01</td>\n",
       "        <td>AC 0011</td>\n",
       "        <td>1</td>\n",
       "        <td>1474</td>\n",
       "        <td>12</td>\n",
       "        <td>113</td>\n",
       "        <td>0</td>\n",
       "        <td>31</td>\n",
       "        <td>-31</td>\n",
       "    </tr>\n",
       "    <tr>\n",
       "        <td>70384</td>\n",
       "        <td>Fall2014</td>\n",
       "        <td>Michael P.  Coyne</td>\n",
       "        <td>Introduction to Financial Accounting</td>\n",
       "        <td>C01</td>\n",
       "        <td>AC 0011</td>\n",
       "        <td>1</td>\n",
       "        <td>1474</td>\n",
       "        <td>12</td>\n",
       "        <td>2333</td>\n",
       "        <td>0</td>\n",
       "        <td>31</td>\n",
       "        <td>-31</td>\n",
       "    </tr>\n",
       "    <tr>\n",
       "        <td>70384</td>\n",
       "        <td>Fall2014</td>\n",
       "        <td>Michael P.  Coyne</td>\n",
       "        <td>Introduction to Financial Accounting</td>\n",
       "        <td>C01</td>\n",
       "        <td>AC 0011</td>\n",
       "        <td>1</td>\n",
       "        <td>3125</td>\n",
       "        <td>12</td>\n",
       "        <td>113</td>\n",
       "        <td>0</td>\n",
       "        <td>31</td>\n",
       "        <td>-31</td>\n",
       "    </tr>\n",
       "    <tr>\n",
       "        <td>70384</td>\n",
       "        <td>Fall2014</td>\n",
       "        <td>Michael P.  Coyne</td>\n",
       "        <td>Introduction to Financial Accounting</td>\n",
       "        <td>C01</td>\n",
       "        <td>AC 0011</td>\n",
       "        <td>1</td>\n",
       "        <td>3125</td>\n",
       "        <td>12</td>\n",
       "        <td>2333</td>\n",
       "        <td>0</td>\n",
       "        <td>31</td>\n",
       "        <td>-31</td>\n",
       "    </tr>\n",
       "    <tr>\n",
       "        <td>70384</td>\n",
       "        <td>Fall2014</td>\n",
       "        <td>Michael P.  Coyne</td>\n",
       "        <td>Introduction to Financial Accounting</td>\n",
       "        <td>C01</td>\n",
       "        <td>AC 0011</td>\n",
       "        <td>1</td>\n",
       "        <td>4</td>\n",
       "        <td>12</td>\n",
       "        <td>113</td>\n",
       "        <td>0</td>\n",
       "        <td>31</td>\n",
       "        <td>-31</td>\n",
       "    </tr>\n",
       "    <tr>\n",
       "        <td>70384</td>\n",
       "        <td>Fall2014</td>\n",
       "        <td>Michael P.  Coyne</td>\n",
       "        <td>Introduction to Financial Accounting</td>\n",
       "        <td>C01</td>\n",
       "        <td>AC 0011</td>\n",
       "        <td>1</td>\n",
       "        <td>4</td>\n",
       "        <td>12</td>\n",
       "        <td>2333</td>\n",
       "        <td>0</td>\n",
       "        <td>31</td>\n",
       "        <td>-31</td>\n",
       "    </tr>\n",
       "    <tr>\n",
       "        <td>70384</td>\n",
       "        <td>Fall2014</td>\n",
       "        <td>Michael P.  Coyne</td>\n",
       "        <td>Introduction to Financial Accounting</td>\n",
       "        <td>C01</td>\n",
       "        <td>AC 0011</td>\n",
       "        <td>1</td>\n",
       "        <td>1475</td>\n",
       "        <td>12</td>\n",
       "        <td>113</td>\n",
       "        <td>0</td>\n",
       "        <td>31</td>\n",
       "        <td>-31</td>\n",
       "    </tr>\n",
       "    <tr>\n",
       "        <td>70384</td>\n",
       "        <td>Fall2014</td>\n",
       "        <td>Michael P.  Coyne</td>\n",
       "        <td>Introduction to Financial Accounting</td>\n",
       "        <td>C01</td>\n",
       "        <td>AC 0011</td>\n",
       "        <td>1</td>\n",
       "        <td>1475</td>\n",
       "        <td>12</td>\n",
       "        <td>2333</td>\n",
       "        <td>0</td>\n",
       "        <td>31</td>\n",
       "        <td>-31</td>\n",
       "    </tr>\n",
       "</table>"
      ],
      "text/plain": [
       "[(70384, 'Fall2014', 'Michael P.  Coyne', 'Introduction to Financial Accounting', 'C01', 'AC 0011', '1', '1', '12', '113', 0, 31, -31),\n",
       " (70384, 'Fall2014', 'Michael P.  Coyne', 'Introduction to Financial Accounting', 'C01', 'AC 0011', '1', '1', '12', '2333', 0, 31, -31),\n",
       " (70384, 'Fall2014', 'Michael P.  Coyne', 'Introduction to Financial Accounting', 'C01', 'AC 0011', '1', '1472', '12', '113', 0, 31, -31),\n",
       " (70384, 'Fall2014', 'Michael P.  Coyne', 'Introduction to Financial Accounting', 'C01', 'AC 0011', '1', '1472', '12', '2333', 0, 31, -31),\n",
       " (70384, 'Fall2014', 'Michael P.  Coyne', 'Introduction to Financial Accounting', 'C01', 'AC 0011', '1', '3123', '12', '113', 0, 31, -31),\n",
       " (70384, 'Fall2014', 'Michael P.  Coyne', 'Introduction to Financial Accounting', 'C01', 'AC 0011', '1', '3123', '12', '2333', 0, 31, -31),\n",
       " (70384, 'Fall2014', 'Michael P.  Coyne', 'Introduction to Financial Accounting', 'C01', 'AC 0011', '1', '2', '12', '113', 0, 31, -31),\n",
       " (70384, 'Fall2014', 'Michael P.  Coyne', 'Introduction to Financial Accounting', 'C01', 'AC 0011', '1', '2', '12', '2333', 0, 31, -31),\n",
       " (70384, 'Fall2014', 'Michael P.  Coyne', 'Introduction to Financial Accounting', 'C01', 'AC 0011', '1', '1473', '12', '113', 0, 31, -31),\n",
       " (70384, 'Fall2014', 'Michael P.  Coyne', 'Introduction to Financial Accounting', 'C01', 'AC 0011', '1', '1473', '12', '2333', 0, 31, -31),\n",
       " (70384, 'Fall2014', 'Michael P.  Coyne', 'Introduction to Financial Accounting', 'C01', 'AC 0011', '1', '3', '12', '113', 0, 31, -31),\n",
       " (70384, 'Fall2014', 'Michael P.  Coyne', 'Introduction to Financial Accounting', 'C01', 'AC 0011', '1', '3', '12', '2333', 0, 31, -31),\n",
       " (70384, 'Fall2014', 'Michael P.  Coyne', 'Introduction to Financial Accounting', 'C01', 'AC 0011', '1', '1474', '12', '113', 0, 31, -31),\n",
       " (70384, 'Fall2014', 'Michael P.  Coyne', 'Introduction to Financial Accounting', 'C01', 'AC 0011', '1', '1474', '12', '2333', 0, 31, -31),\n",
       " (70384, 'Fall2014', 'Michael P.  Coyne', 'Introduction to Financial Accounting', 'C01', 'AC 0011', '1', '3125', '12', '113', 0, 31, -31),\n",
       " (70384, 'Fall2014', 'Michael P.  Coyne', 'Introduction to Financial Accounting', 'C01', 'AC 0011', '1', '3125', '12', '2333', 0, 31, -31),\n",
       " (70384, 'Fall2014', 'Michael P.  Coyne', 'Introduction to Financial Accounting', 'C01', 'AC 0011', '1', '4', '12', '113', 0, 31, -31),\n",
       " (70384, 'Fall2014', 'Michael P.  Coyne', 'Introduction to Financial Accounting', 'C01', 'AC 0011', '1', '4', '12', '2333', 0, 31, -31),\n",
       " (70384, 'Fall2014', 'Michael P.  Coyne', 'Introduction to Financial Accounting', 'C01', 'AC 0011', '1', '1475', '12', '113', 0, 31, -31),\n",
       " (70384, 'Fall2014', 'Michael P.  Coyne', 'Introduction to Financial Accounting', 'C01', 'AC 0011', '1', '1475', '12', '2333', 0, 31, -31)]"
      ]
     },
     "execution_count": 27,
     "metadata": {},
     "output_type": "execute_result"
    }
   ],
   "source": [
    "%%sql\n",
    "SELECT *\n",
    "FROM Course_Facts\n",
    "LIMIT 20;"
   ]
  }
 ],
 "metadata": {
  "kernelspec": {
   "display_name": "Python 3",
   "language": "python",
   "name": "python3"
  },
  "language_info": {
   "codemirror_mode": {
    "name": "ipython",
    "version": 3
   },
   "file_extension": ".py",
   "mimetype": "text/x-python",
   "name": "python",
   "nbconvert_exporter": "python",
   "pygments_lexer": "ipython3",
   "version": "3.6.5"
  }
 },
 "nbformat": 4,
 "nbformat_minor": 2
}
