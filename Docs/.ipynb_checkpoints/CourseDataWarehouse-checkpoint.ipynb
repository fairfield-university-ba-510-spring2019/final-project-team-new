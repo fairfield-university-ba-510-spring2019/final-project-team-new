{
 "cells": [
  {
   "cell_type": "code",
   "execution_count": 1,
   "metadata": {},
   "outputs": [],
   "source": [
    "%load_ext sql\n",
    "import pandas as pd\n",
    "import sqlite3"
   ]
  },
  {
   "cell_type": "code",
   "execution_count": 2,
   "metadata": {},
   "outputs": [],
   "source": [
    "%sql sqlite:///CourseDataWarehouseData.db\n",
    "conn = sqlite3.connect('CourseDataWarehouseData.db')"
   ]
  },
  {
   "cell_type": "code",
   "execution_count": 3,
   "metadata": {},
   "outputs": [
    {
     "name": "stdout",
     "output_type": "stream",
     "text": [
      " * sqlite:///CourseDataWarehouseData.db\n",
      "Done.\n",
      "Done.\n",
      "Done.\n",
      "Done.\n",
      "Done.\n",
      "Done.\n",
      "Done.\n",
      "Done.\n"
     ]
    },
    {
     "data": {
      "text/plain": [
       "[]"
      ]
     },
     "execution_count": 3,
     "metadata": {},
     "output_type": "execute_result"
    }
   ],
   "source": [
    "%%sql\n",
    "DROP TABLE IF EXISTS Course_Facts;\n",
    "DROP TABLE IF EXISTS Location;\n",
    "DROP TABLE IF EXISTS Program;\n",
    "DROP TABLE IF EXISTS Meeting;\n",
    "DROP TABLE IF EXISTS Fees;\n",
    "\n",
    "\n",
    "DROP TABLE IF EXISTS IMPORT_COURSE_OFFERINGS;\n",
    "DROP TABLE IF EXISTS IMPORT_COURSE_MEETINGS;\n",
    "DROP TABLE IF EXISTS IMPORT_CATALOG_COURSES;\n"
   ]
  },
  {
   "cell_type": "code",
   "execution_count": 4,
   "metadata": {},
   "outputs": [
    {
     "name": "stdout",
     "output_type": "stream",
     "text": [
      " * sqlite:///CourseDataWarehouseData.db\n",
      "Done.\n"
     ]
    },
    {
     "data": {
      "text/plain": [
       "[]"
      ]
     },
     "execution_count": 4,
     "metadata": {},
     "output_type": "execute_result"
    }
   ],
   "source": [
    "%%sql\n",
    "\n",
    "CREATE TABLE Location (\n",
    "    LID INTEGER PRIMARY KEY,\n",
    "    Room TEXT\n",
    ");"
   ]
  },
  {
   "cell_type": "code",
   "execution_count": 5,
   "metadata": {},
   "outputs": [
    {
     "name": "stdout",
     "output_type": "stream",
     "text": [
      " * sqlite:///CourseDataWarehouseData.db\n",
      "Done.\n"
     ]
    },
    {
     "data": {
      "text/plain": [
       "[]"
      ]
     },
     "execution_count": 5,
     "metadata": {},
     "output_type": "execute_result"
    }
   ],
   "source": [
    "%%sql\n",
    "\n",
    "CREATE TABLE Program (\n",
    "    PID INTEGER PRIMARY KEY,\n",
    "    Prg_Code VARCHAR(10),\n",
    "    Program_Name VARCHAR(150)\n",
    ");"
   ]
  },
  {
   "cell_type": "code",
   "execution_count": 6,
   "metadata": {},
   "outputs": [
    {
     "name": "stdout",
     "output_type": "stream",
     "text": [
      " * sqlite:///CourseDataWarehouseData.db\n",
      "Done.\n"
     ]
    },
    {
     "data": {
      "text/plain": [
       "[]"
      ]
     },
     "execution_count": 6,
     "metadata": {},
     "output_type": "execute_result"
    }
   ],
   "source": [
    "%%sql\n",
    "\n",
    "CREATE TABLE Fees (\n",
    "    Fee_ID INTEGER PRIMARY KEY,\n",
    "    Cat_ID VARCHAR(10),\n",
    "    Academic_Year VARCHAR(20),\n",
    "    Amount VARCHAR(50)\n",
    ");"
   ]
  },
  {
   "cell_type": "code",
   "execution_count": 7,
   "metadata": {},
   "outputs": [
    {
     "name": "stdout",
     "output_type": "stream",
     "text": [
      " * sqlite:///CourseDataWarehouseData.db\n",
      "Done.\n"
     ]
    },
    {
     "data": {
      "text/plain": [
       "[]"
      ]
     },
     "execution_count": 7,
     "metadata": {},
     "output_type": "execute_result"
    }
   ],
   "source": [
    "%%sql\n",
    "\n",
    "CREATE TABLE Meeting (\n",
    "    MID INTEGER PRIMARY KEY,\n",
    "    Day TEXT,\n",
    "    Start_Time TIME,\n",
    "    End_Time TIME  \n",
    ");"
   ]
  },
  {
   "cell_type": "code",
   "execution_count": 8,
   "metadata": {},
   "outputs": [
    {
     "name": "stdout",
     "output_type": "stream",
     "text": [
      " * sqlite:///CourseDataWarehouseData.db\n",
      "Done.\n"
     ]
    },
    {
     "data": {
      "text/plain": [
       "[]"
      ]
     },
     "execution_count": 8,
     "metadata": {},
     "output_type": "execute_result"
    }
   ],
   "source": [
    "%%sql\n",
    "\n",
    "CREATE TABLE Course_Facts (\n",
    "    CRN SMALLINT,\n",
    "    Term VARCHAR(20),\n",
    "    Faculty_Name VARCHAR(10),\n",
    "    Section VARCHAR(10),\n",
    "    Cat_ID VARCHAR(10),\n",
    "    LID VARCHAR(10),\n",
    "    MID VARCHAR(10),\n",
    "    PID VARCHAR(10),\n",
    "    FEE_ID VARCHAR(10),\n",
    "    Capacity SMALLINT,\n",
    "    Actual SMALLINT,\n",
    "    Remaining SMALLINT,\n",
    "    PRIMARY KEY (CRN, Term)\n",
    "    FOREIGN KEY(LID) REFERENCES Location(LID)\n",
    ");"
   ]
  },
  {
   "cell_type": "code",
   "execution_count": 9,
   "metadata": {},
   "outputs": [],
   "source": [
    "\n",
    "#Catalog Data\n",
    "catalog_years = ['2017_2018', '2018_2019']\n",
    "\n",
    "for cat_year in catalog_years:\n",
    "    filepath = '../SourceData/Catalogs/CourseCatalog'+cat_year+'.csv'\n",
    "    data = pd.read_csv(filepath)\n",
    "    data['cat_year'] = cat_year\n",
    "    data.to_sql('IMPORT_CATALOG_COURSES',conn,if_exists='append',index=False)"
   ]
  },
  {
   "cell_type": "code",
   "execution_count": 10,
   "metadata": {},
   "outputs": [],
   "source": [
    "#Course Offering and Course Meeting Data\n",
    "terms = ['Fall2014','Fall2015','Fall2016','Fall2017','Fall2018',\n",
    "         'Spring2015','Spring2016','Spring2017','Spring2018','Spring2019',\n",
    "        'SpringBreak2017',\n",
    "         'Summer2015','Summer2016','Summer2017','Summer2018',\n",
    "         'Winter2015','Winter2016','Winter2017','Winter2018']\n",
    "\n",
    "for term in terms:\n",
    "    filepath = '../SourceData/'+term+'/courses.csv'\n",
    "    data = pd.read_csv(filepath)\n",
    "    data.to_sql('IMPORT_COURSE_OFFERINGS',conn,if_exists='append',index=False) \n",
    "    \n",
    "    filepath = '../SourceData/'+term+'/course_meetings.csv'\n",
    "    data = pd.read_csv(filepath)\n",
    "    data.to_sql('IMPORT_COURSE_MEETINGS',conn,if_exists='append',index=False)"
   ]
  },
  {
   "cell_type": "markdown",
   "metadata": {},
   "source": [
    "## Insert into tables"
   ]
  },
  {
   "cell_type": "code",
   "execution_count": 11,
   "metadata": {},
   "outputs": [
    {
     "name": "stdout",
     "output_type": "stream",
     "text": [
      " * sqlite:///CourseDataWarehouseData.db\n",
      "207 rows affected.\n"
     ]
    },
    {
     "data": {
      "text/plain": [
       "[]"
      ]
     },
     "execution_count": 11,
     "metadata": {},
     "output_type": "execute_result"
    }
   ],
   "source": [
    "%%sql\n",
    "\n",
    "INSERT INTO Location (Room)\n",
    "SELECT DISTINCT location \n",
    "FROM IMPORT_COURSE_MEETINGS;"
   ]
  },
  {
   "cell_type": "code",
   "execution_count": 12,
   "metadata": {},
   "outputs": [
    {
     "name": "stdout",
     "output_type": "stream",
     "text": [
      " * sqlite:///CourseDataWarehouseData.db\n",
      "Done.\n"
     ]
    },
    {
     "data": {
      "text/html": [
       "<table>\n",
       "    <tr>\n",
       "        <th>LID</th>\n",
       "        <th>Room</th>\n",
       "    </tr>\n",
       "    <tr>\n",
       "        <td>1</td>\n",
       "        <td>DSB 105</td>\n",
       "    </tr>\n",
       "    <tr>\n",
       "        <td>2</td>\n",
       "        <td>DSB 111</td>\n",
       "    </tr>\n",
       "    <tr>\n",
       "        <td>3</td>\n",
       "        <td>DSB 110A</td>\n",
       "    </tr>\n",
       "    <tr>\n",
       "        <td>4</td>\n",
       "        <td>DSB 108</td>\n",
       "    </tr>\n",
       "    <tr>\n",
       "        <td>5</td>\n",
       "        <td>DSB 110B</td>\n",
       "    </tr>\n",
       "    <tr>\n",
       "        <td>6</td>\n",
       "        <td>DSB 104</td>\n",
       "    </tr>\n",
       "    <tr>\n",
       "        <td>7</td>\n",
       "        <td>DSB 112</td>\n",
       "    </tr>\n",
       "    <tr>\n",
       "        <td>8</td>\n",
       "        <td>DSB 109</td>\n",
       "    </tr>\n",
       "    <tr>\n",
       "        <td>9</td>\n",
       "        <td>DSB 115</td>\n",
       "    </tr>\n",
       "    <tr>\n",
       "        <td>10</td>\n",
       "        <td>DSB 2109A</td>\n",
       "    </tr>\n",
       "    <tr>\n",
       "        <td>11</td>\n",
       "        <td>CNS 5</td>\n",
       "    </tr>\n",
       "    <tr>\n",
       "        <td>12</td>\n",
       "        <td>CNS 108</td>\n",
       "    </tr>\n",
       "    <tr>\n",
       "        <td>13</td>\n",
       "        <td>CNS 106</td>\n",
       "    </tr>\n",
       "    <tr>\n",
       "        <td>14</td>\n",
       "        <td>BNW 254</td>\n",
       "    </tr>\n",
       "    <tr>\n",
       "        <td>15</td>\n",
       "        <td>SON 124</td>\n",
       "    </tr>\n",
       "    <tr>\n",
       "        <td>16</td>\n",
       "        <td>CNS 303</td>\n",
       "    </tr>\n",
       "    <tr>\n",
       "        <td>17</td>\n",
       "        <td>CNS 305</td>\n",
       "    </tr>\n",
       "    <tr>\n",
       "        <td>18</td>\n",
       "        <td>BNW 137</td>\n",
       "    </tr>\n",
       "    <tr>\n",
       "        <td>19</td>\n",
       "        <td>CNS 15</td>\n",
       "    </tr>\n",
       "    <tr>\n",
       "        <td>20</td>\n",
       "        <td>CNS 208</td>\n",
       "    </tr>\n",
       "</table>"
      ],
      "text/plain": [
       "[(1, 'DSB 105'),\n",
       " (2, 'DSB 111'),\n",
       " (3, 'DSB 110A'),\n",
       " (4, 'DSB 108'),\n",
       " (5, 'DSB 110B'),\n",
       " (6, 'DSB 104'),\n",
       " (7, 'DSB 112'),\n",
       " (8, 'DSB 109'),\n",
       " (9, 'DSB 115'),\n",
       " (10, 'DSB 2109A'),\n",
       " (11, 'CNS 5'),\n",
       " (12, 'CNS 108'),\n",
       " (13, 'CNS 106'),\n",
       " (14, 'BNW 254'),\n",
       " (15, 'SON 124'),\n",
       " (16, 'CNS 303'),\n",
       " (17, 'CNS 305'),\n",
       " (18, 'BNW 137'),\n",
       " (19, 'CNS 15'),\n",
       " (20, 'CNS 208')]"
      ]
     },
     "execution_count": 12,
     "metadata": {},
     "output_type": "execute_result"
    }
   ],
   "source": [
    "%%sql\n",
    "\n",
    "SELECT *\n",
    "FROM Location\n",
    "LIMIT 20"
   ]
  },
  {
   "cell_type": "code",
   "execution_count": 13,
   "metadata": {},
   "outputs": [
    {
     "name": "stdout",
     "output_type": "stream",
     "text": [
      " * sqlite:///CourseDataWarehouseData.db\n",
      "83 rows affected.\n"
     ]
    },
    {
     "data": {
      "text/plain": [
       "[]"
      ]
     },
     "execution_count": 13,
     "metadata": {},
     "output_type": "execute_result"
    }
   ],
   "source": [
    "%%sql\n",
    "\n",
    "INSERT INTO Program (Prg_Code, Program_Name)\n",
    "SELECT DISTINCT program_code, program_name \n",
    "FROM IMPORT_CATALOG_COURSES;"
   ]
  },
  {
   "cell_type": "code",
   "execution_count": 14,
   "metadata": {},
   "outputs": [
    {
     "name": "stdout",
     "output_type": "stream",
     "text": [
      " * sqlite:///CourseDataWarehouseData.db\n",
      "42551 rows affected.\n"
     ]
    },
    {
     "data": {
      "text/plain": [
       "[]"
      ]
     },
     "execution_count": 14,
     "metadata": {},
     "output_type": "execute_result"
    }
   ],
   "source": [
    "%%sql\n",
    "\n",
    "INSERT INTO Meeting (Day, Start_Time, End_Time)\n",
    "SELECT DISTINCT day, start, end\n",
    "FROM IMPORT_COURSE_MEETINGS\n"
   ]
  },
  {
   "cell_type": "code",
   "execution_count": 15,
   "metadata": {},
   "outputs": [
    {
     "name": "stdout",
     "output_type": "stream",
     "text": [
      " * sqlite:///CourseDataWarehouseData.db\n",
      "4440 rows affected.\n"
     ]
    },
    {
     "data": {
      "text/plain": [
       "[]"
      ]
     },
     "execution_count": 15,
     "metadata": {},
     "output_type": "execute_result"
    }
   ],
   "source": [
    "%%sql\n",
    "\n",
    "INSERT INTO Fees (Cat_ID, Academic_Year, Amount )\n",
    "SELECT DISTINCT catalog_id, cat_year, fees\n",
    "FROM IMPORT_CATALOG_COURSES;\n"
   ]
  },
  {
   "cell_type": "code",
   "execution_count": 16,
   "metadata": {},
   "outputs": [
    {
     "ename": "SyntaxError",
     "evalue": "invalid syntax (<ipython-input-16-748e4be8a419>, line 1)",
     "output_type": "error",
     "traceback": [
      "\u001b[0;36m  File \u001b[0;32m\"<ipython-input-16-748e4be8a419>\"\u001b[0;36m, line \u001b[0;32m1\u001b[0m\n\u001b[0;31m    LEFT JOIN Location ON IMPORT_COURSE_MEETINGS.location = Location.Room\u001b[0m\n\u001b[0m            ^\u001b[0m\n\u001b[0;31mSyntaxError\u001b[0m\u001b[0;31m:\u001b[0m invalid syntax\n"
     ]
    }
   ],
   "source": [
    "     LEFT JOIN Location ON IMPORT_COURSE_MEETINGS.location = Location.Room"
   ]
  },
  {
   "cell_type": "code",
   "execution_count": 17,
   "metadata": {},
   "outputs": [
    {
     "name": "stdout",
     "output_type": "stream",
     "text": [
      " * sqlite:///CourseDataWarehouseData.db\n",
      "(sqlite3.OperationalError) ambiguous column name: crn [SQL: 'INSERT INTO Course_Facts (CRN, Term, Faculty_Name, Cat_ID, Section, Capacity, Actual, Remaining)\\nSELECT crn, term, primary_instructor, catalog_id, section,  cap, act, rem\\nFROM IMPORT_COURSE_OFFERINGS\\n        LEFT JOIN IMPORT_COURSE_MEETINGS ON (IMPORT_COURSE_OFFERINGS.crn= IMPORT_COURSE_MEETINGS.crn AND IMPORT_COURSE_OFFERINGS.term= IMPORT_COURSE_MEETINGS.term);'] (Background on this error at: http://sqlalche.me/e/e3q8)\n"
     ]
    }
   ],
   "source": [
    "%%sql\n",
    "\n",
    "INSERT INTO Course_Facts (CRN, Term, Faculty_Name, Cat_ID, Section, Capacity, Actual, Remaining)\n",
    "SELECT crn, term, primary_instructor, catalog_id, section,  cap, act, rem\n",
    "FROM IMPORT_COURSE_OFFERINGS\n",
    "        LEFT JOIN IMPORT_COURSE_MEETINGS ON (IMPORT_COURSE_OFFERINGS.crn= IMPORT_COURSE_MEETINGS.crn AND IMPORT_COURSE_OFFERINGS.term= IMPORT_COURSE_MEETINGS.term);\n",
    "\n",
    "        "
   ]
  },
  {
   "cell_type": "code",
   "execution_count": 18,
   "metadata": {},
   "outputs": [
    {
     "name": "stdout",
     "output_type": "stream",
     "text": [
      " * sqlite:///CourseDataWarehouseData.db\n",
      "Done.\n"
     ]
    },
    {
     "data": {
      "text/html": [
       "<table>\n",
       "    <tr>\n",
       "        <th>CRN</th>\n",
       "        <th>Term</th>\n",
       "        <th>Faculty_Name</th>\n",
       "        <th>Section</th>\n",
       "        <th>Cat_ID</th>\n",
       "        <th>LID</th>\n",
       "        <th>MID</th>\n",
       "        <th>PID</th>\n",
       "        <th>FEE_ID</th>\n",
       "        <th>Capacity</th>\n",
       "        <th>Actual</th>\n",
       "        <th>Remaining</th>\n",
       "    </tr>\n",
       "</table>"
      ],
      "text/plain": [
       "[]"
      ]
     },
     "execution_count": 18,
     "metadata": {},
     "output_type": "execute_result"
    }
   ],
   "source": [
    "%%sql\n",
    "\n",
    "SELECT *\n",
    "FROM Course_Facts\n",
    "LIMIT 20;\n"
   ]
  },
  {
   "cell_type": "code",
   "execution_count": 20,
   "metadata": {},
   "outputs": [
    {
     "name": "stdout",
     "output_type": "stream",
     "text": [
      " * sqlite:///CourseDataWarehouseData.db\n",
      "Done.\n",
      "Done.\n",
      "Done.\n"
     ]
    },
    {
     "data": {
      "text/plain": [
       "[]"
      ]
     },
     "execution_count": 20,
     "metadata": {},
     "output_type": "execute_result"
    }
   ],
   "source": [
    "%%sql \n",
    "\n",
    "DROP TABLE IF EXISTS IMPORT_COURSE_OFFERINGS;\n",
    "DROP TABLE IF EXISTS IMPORT_COURSE_MEETINGS;\n",
    "DROP TABLE IF EXISTS IMPORT_CATALOG_COURSES;\n"
   ]
  },
  {
   "cell_type": "code",
   "execution_count": null,
   "metadata": {},
   "outputs": [],
   "source": []
  }
 ],
 "metadata": {
  "kernelspec": {
   "display_name": "Python 3",
   "language": "python",
   "name": "python3"
  },
  "language_info": {
   "codemirror_mode": {
    "name": "ipython",
    "version": 3
   },
   "file_extension": ".py",
   "mimetype": "text/x-python",
   "name": "python",
   "nbconvert_exporter": "python",
   "pygments_lexer": "ipython3",
   "version": "3.6.5"
  }
 },
 "nbformat": 4,
 "nbformat_minor": 2
}
