{
 "cells": [
  {
   "cell_type": "markdown",
   "metadata": {},
   "source": [
    "### load imports"
   ]
  },
  {
   "cell_type": "code",
   "execution_count": 1,
   "metadata": {},
   "outputs": [],
   "source": [
    "%load_ext sql\n",
    "import pandas as pd\n",
    "import sqlite3"
   ]
  },
  {
   "cell_type": "code",
   "execution_count": 2,
   "metadata": {},
   "outputs": [],
   "source": [
    "%sql sqlite:///CourseData.db\n",
    "conn = sqlite3.connect('CourseData.db')"
   ]
  },
  {
   "cell_type": "code",
   "execution_count": 3,
   "metadata": {},
   "outputs": [
    {
     "name": "stdout",
     "output_type": "stream",
     "text": [
      " * sqlite:///CourseData.db\n",
      "Done.\n",
      "Done.\n",
      "Done.\n",
      "Done.\n",
      "Done.\n",
      "Done.\n",
      "Done.\n",
      "Done.\n"
     ]
    },
    {
     "data": {
      "text/plain": [
       "[]"
      ]
     },
     "execution_count": 3,
     "metadata": {},
     "output_type": "execute_result"
    }
   ],
   "source": [
    "%%sql\n",
    "DROP TABLE IF EXISTS Courses;\n",
    "DROP TABLE IF EXISTS Course_Meeting;\n",
    "DROP TABLE IF EXISTS Catalog;\n",
    "DROP TABLE IF EXISTS Program;\n",
    "DROP TABLE IF EXISTS Fees;\n",
    "\n",
    "\n",
    "DROP TABLE IF EXISTS IMPORT_COURSE_OFFERINGS;\n",
    "DROP TABLE IF EXISTS IMPORT_COURSE_MEETINGS;\n",
    "DROP TABLE IF EXISTS IMPORT_CATALOG_COURSES;\n"
   ]
  },
  {
   "cell_type": "markdown",
   "metadata": {},
   "source": [
    "##### we loaded the CSV files in the terminal window\n",
    "\n",
    "##### Create ERD tables"
   ]
  },
  {
   "cell_type": "code",
   "execution_count": 4,
   "metadata": {},
   "outputs": [
    {
     "name": "stdout",
     "output_type": "stream",
     "text": [
      " * sqlite:///CourseData.db\n",
      "Done.\n"
     ]
    },
    {
     "data": {
      "text/plain": [
       "[]"
      ]
     },
     "execution_count": 4,
     "metadata": {},
     "output_type": "execute_result"
    }
   ],
   "source": [
    "%%sql\n",
    "\n",
    "CREATE TABLE Courses (\n",
    "    CRN SMALLINT,\n",
    "    Term VARCHAR(20),\n",
    "    Section VARCHAR(10),\n",
    "    Cat_ID VARCHAR(10),\n",
    "    CatID VARCHAR(10),\n",
    "    Faculty_Name VARCHAR(10),\n",
    "    Credits TINYINT,\n",
    "    Capacity SMALLINT,\n",
    "    Actual SMALLINT,\n",
    "    Remaining SMALLINT,\n",
    "    PRIMARY KEY (CRN, Term)\n",
    ");"
   ]
  },
  {
   "cell_type": "code",
   "execution_count": 5,
   "metadata": {},
   "outputs": [
    {
     "name": "stdout",
     "output_type": "stream",
     "text": [
      " * sqlite:///CourseData.db\n",
      "Done.\n"
     ]
    },
    {
     "data": {
      "text/plain": [
       "[]"
      ]
     },
     "execution_count": 5,
     "metadata": {},
     "output_type": "execute_result"
    }
   ],
   "source": [
    "%%sql\n",
    "\n",
    "CREATE TABLE Course_Meeting (\n",
    "    MID INTEGER PRIMARY KEY,\n",
    "    CRN SMALLINT,\n",
    "    Term VARCHAR(20),\n",
    "    Room TEXT,\n",
    "    Day TEXT,\n",
    "    Start_Time TIME,\n",
    "    End_Time TIME  \n",
    ");"
   ]
  },
  {
   "cell_type": "code",
   "execution_count": 6,
   "metadata": {},
   "outputs": [
    {
     "name": "stdout",
     "output_type": "stream",
     "text": [
      " * sqlite:///CourseData.db\n",
      "Done.\n"
     ]
    },
    {
     "data": {
      "text/plain": [
       "[]"
      ]
     },
     "execution_count": 6,
     "metadata": {},
     "output_type": "execute_result"
    }
   ],
   "source": [
    "\n",
    "%%sql\n",
    "\n",
    "CREATE TABLE Catalog (\n",
    "    Cat_ID VARCHAR(10) PRIMARY KEY,\n",
    "    Prg_Code VARCHAR(5),\n",
    "    Title VARCHAR(150),\n",
    "    Prerequisites VARCHAR(10),\n",
    "    Corequisites VARCHAR(10)\n",
    ");"
   ]
  },
  {
   "cell_type": "code",
   "execution_count": 7,
   "metadata": {},
   "outputs": [
    {
     "name": "stdout",
     "output_type": "stream",
     "text": [
      " * sqlite:///CourseData.db\n",
      "Done.\n"
     ]
    },
    {
     "data": {
      "text/plain": [
       "[]"
      ]
     },
     "execution_count": 7,
     "metadata": {},
     "output_type": "execute_result"
    }
   ],
   "source": [
    "%%sql\n",
    "\n",
    "CREATE TABLE Program (\n",
    "    Prg_Code VARCHAR(10) PRIMARY KEY,\n",
    "    Program_Name VARCHAR(150)\n",
    ");"
   ]
  },
  {
   "cell_type": "code",
   "execution_count": 8,
   "metadata": {},
   "outputs": [
    {
     "name": "stdout",
     "output_type": "stream",
     "text": [
      " * sqlite:///CourseData.db\n",
      "Done.\n"
     ]
    },
    {
     "data": {
      "text/plain": [
       "[]"
      ]
     },
     "execution_count": 8,
     "metadata": {},
     "output_type": "execute_result"
    }
   ],
   "source": [
    "%%sql\n",
    "\n",
    "CREATE TABLE Fees (\n",
    "    Cat_ID VARCHAR(10),\n",
    "    Academic_Year VARCHAR(20),\n",
    "    Fee DECIMAL,\n",
    "    PRIMARY KEY (Cat_ID, Academic_Year)\n",
    ");"
   ]
  },
  {
   "cell_type": "code",
   "execution_count": 9,
   "metadata": {},
   "outputs": [],
   "source": [
    "\n",
    "#Catalog Data\n",
    "catalog_years = ['2017_2018', '2018_2019']\n",
    "\n",
    "for cat_year in catalog_years:\n",
    "    filepath = '../SourceData/Catalogs/CourseCatalog'+cat_year+'.csv'\n",
    "    data = pd.read_csv(filepath)\n",
    "    data['cat_year'] = cat_year\n",
    "    data.to_sql('IMPORT_CATALOG_COURSES',conn,if_exists='append',index=False)"
   ]
  },
  {
   "cell_type": "code",
   "execution_count": 10,
   "metadata": {},
   "outputs": [],
   "source": [
    "#Course Offering and Course Meeting Data\n",
    "terms = ['Fall2014','Fall2015','Fall2016','Fall2017','Fall2018',\n",
    "         'Spring2015','Spring2016','Spring2017','Spring2018','Spring2019',\n",
    "        'SpringBreak2017',\n",
    "         'Summer2015','Summer2016','Summer2017','Summer2018',\n",
    "         'Winter2015','Winter2016','Winter2017','Winter2018']\n",
    "\n",
    "for term in terms:\n",
    "    filepath = '../SourceData/'+term+'/courses.csv'\n",
    "    data = pd.read_csv(filepath)\n",
    "    data.to_sql('IMPORT_COURSE_OFFERINGS',conn,if_exists='append',index=False) \n",
    "    \n",
    "    filepath = '../SourceData/'+term+'/course_meetings.csv'\n",
    "    data = pd.read_csv(filepath)\n",
    "    data.to_sql('IMPORT_COURSE_MEETINGS',conn,if_exists='append',index=False)"
   ]
  },
  {
   "cell_type": "markdown",
   "metadata": {},
   "source": [
    "\n",
    "\n",
    "##### INsert into ERD tables\n"
   ]
  },
  {
   "cell_type": "code",
   "execution_count": 11,
   "metadata": {},
   "outputs": [
    {
     "name": "stdout",
     "output_type": "stream",
     "text": [
      " * sqlite:///CourseData.db\n",
      "83 rows affected.\n"
     ]
    },
    {
     "data": {
      "text/plain": [
       "[]"
      ]
     },
     "execution_count": 11,
     "metadata": {},
     "output_type": "execute_result"
    }
   ],
   "source": [
    "\n",
    "%%sql\n",
    "\n",
    "INSERT INTO Program (Prg_Code, Program_Name)\n",
    "SELECT DISTINCT program_code, program_name \n",
    "FROM IMPORT_CATALOG_COURSES;"
   ]
  },
  {
   "cell_type": "code",
   "execution_count": 12,
   "metadata": {},
   "outputs": [
    {
     "name": "stdout",
     "output_type": "stream",
     "text": [
      " * sqlite:///CourseData.db\n",
      "2220 rows affected.\n"
     ]
    },
    {
     "data": {
      "text/plain": [
       "[]"
      ]
     },
     "execution_count": 12,
     "metadata": {},
     "output_type": "execute_result"
    }
   ],
   "source": [
    "%%sql\n",
    "\n",
    "INSERT INTO Catalog (Cat_ID, Prg_Code, Title, Prerequisites, Corequisites)\n",
    "SELECT DISTINCT catalog_id, program_code, course_title,prereqs,coreqs\n",
    "FROM IMPORT_CATALOG_COURSES \n",
    "    JOIN Program ON (Prg_Code = program_code);"
   ]
  },
  {
   "cell_type": "code",
   "execution_count": 13,
   "metadata": {},
   "outputs": [
    {
     "name": "stdout",
     "output_type": "stream",
     "text": [
      " * sqlite:///CourseData.db\n",
      "311141 rows affected.\n"
     ]
    },
    {
     "data": {
      "text/plain": [
       "[]"
      ]
     },
     "execution_count": 13,
     "metadata": {},
     "output_type": "execute_result"
    }
   ],
   "source": [
    "%%sql\n",
    "\n",
    "INSERT INTO Course_Meeting (CRN, Term, Room, Day, Start_Time, End_Time)\n",
    "SELECT DISTINCT crn, term, location, day, start, end\n",
    "FROM IMPORT_COURSE_MEETINGS\n",
    "  \n",
    "\n",
    "     "
   ]
  },
  {
   "cell_type": "code",
   "execution_count": 14,
   "metadata": {},
   "outputs": [
    {
     "name": "stdout",
     "output_type": "stream",
     "text": [
      " * sqlite:///CourseData.db\n",
      "15937 rows affected.\n"
     ]
    },
    {
     "data": {
      "text/plain": [
       "[]"
      ]
     },
     "execution_count": 14,
     "metadata": {},
     "output_type": "execute_result"
    }
   ],
   "source": [
    "%%sql\n",
    "\n",
    "INSERT INTO COURSES (CRN, Term, Section, Cat_ID, Faculty_Name, Credits, Capacity, Actual, Remaining)\n",
    "SELECT DISTINCT crn, term, section, catalog_id, primary_instructor, credits, cap, act, rem\n",
    "FROM IMPORT_COURSE_OFFERINGS;"
   ]
  },
  {
   "cell_type": "code",
   "execution_count": 15,
   "metadata": {},
   "outputs": [
    {
     "name": "stdout",
     "output_type": "stream",
     "text": [
      " * sqlite:///CourseData.db\n",
      "4440 rows affected.\n"
     ]
    },
    {
     "data": {
      "text/plain": [
       "[]"
      ]
     },
     "execution_count": 15,
     "metadata": {},
     "output_type": "execute_result"
    }
   ],
   "source": [
    "%%sql\n",
    "\n",
    "INSERT INTO Fees (Cat_ID, Academic_Year, Fee )\n",
    "SELECT DISTINCT catalog_id, cat_year, fees\n",
    "FROM IMPORT_CATALOG_COURSES;\n"
   ]
  },
  {
   "cell_type": "code",
   "execution_count": 16,
   "metadata": {},
   "outputs": [
    {
     "name": "stdout",
     "output_type": "stream",
     "text": [
      " * sqlite:///CourseData.db\n",
      "Done.\n"
     ]
    },
    {
     "data": {
      "text/html": [
       "<table>\n",
       "    <tr>\n",
       "        <th>CRN</th>\n",
       "        <th>Term</th>\n",
       "        <th>Section</th>\n",
       "        <th>Cat_ID</th>\n",
       "        <th>CatID</th>\n",
       "        <th>Faculty_Name</th>\n",
       "        <th>Credits</th>\n",
       "        <th>Capacity</th>\n",
       "        <th>Actual</th>\n",
       "        <th>Remaining</th>\n",
       "    </tr>\n",
       "    <tr>\n",
       "        <td>70384</td>\n",
       "        <td>Fall2014</td>\n",
       "        <td>C01</td>\n",
       "        <td>AC 0011</td>\n",
       "        <td>None</td>\n",
       "        <td>Michael P.  Coyne</td>\n",
       "        <td>3</td>\n",
       "        <td>0</td>\n",
       "        <td>31</td>\n",
       "        <td>-31</td>\n",
       "    </tr>\n",
       "    <tr>\n",
       "        <td>70385</td>\n",
       "        <td>Fall2014</td>\n",
       "        <td>C02</td>\n",
       "        <td>AC 0011</td>\n",
       "        <td>None</td>\n",
       "        <td>Michael P.  Coyne</td>\n",
       "        <td>3</td>\n",
       "        <td>0</td>\n",
       "        <td>31</td>\n",
       "        <td>-31</td>\n",
       "    </tr>\n",
       "    <tr>\n",
       "        <td>70382</td>\n",
       "        <td>Fall2014</td>\n",
       "        <td>C03</td>\n",
       "        <td>AC 0011</td>\n",
       "        <td>None</td>\n",
       "        <td>Michael P.  Coyne</td>\n",
       "        <td>3</td>\n",
       "        <td>0</td>\n",
       "        <td>31</td>\n",
       "        <td>-31</td>\n",
       "    </tr>\n",
       "    <tr>\n",
       "        <td>70291</td>\n",
       "        <td>Fall2014</td>\n",
       "        <td>C04</td>\n",
       "        <td>AC 0011</td>\n",
       "        <td>None</td>\n",
       "        <td>Rebecca I.  Bloch</td>\n",
       "        <td>3</td>\n",
       "        <td>0</td>\n",
       "        <td>29</td>\n",
       "        <td>-29</td>\n",
       "    </tr>\n",
       "    <tr>\n",
       "        <td>70350</td>\n",
       "        <td>Fall2014</td>\n",
       "        <td>C05</td>\n",
       "        <td>AC 0011</td>\n",
       "        <td>None</td>\n",
       "        <td>Rebecca I.  Bloch</td>\n",
       "        <td>3</td>\n",
       "        <td>0</td>\n",
       "        <td>30</td>\n",
       "        <td>-30</td>\n",
       "    </tr>\n",
       "    <tr>\n",
       "        <td>70381</td>\n",
       "        <td>Fall2014</td>\n",
       "        <td>C06</td>\n",
       "        <td>AC 0011</td>\n",
       "        <td>None</td>\n",
       "        <td>Rebecca I.  Bloch</td>\n",
       "        <td>3</td>\n",
       "        <td>0</td>\n",
       "        <td>31</td>\n",
       "        <td>-31</td>\n",
       "    </tr>\n",
       "    <tr>\n",
       "        <td>70383</td>\n",
       "        <td>Fall2014</td>\n",
       "        <td>G</td>\n",
       "        <td>AC 0011</td>\n",
       "        <td>None</td>\n",
       "        <td>Paul   Caster</td>\n",
       "        <td>3</td>\n",
       "        <td>30</td>\n",
       "        <td>31</td>\n",
       "        <td>-1</td>\n",
       "    </tr>\n",
       "    <tr>\n",
       "        <td>70391</td>\n",
       "        <td>Fall2014</td>\n",
       "        <td>H</td>\n",
       "        <td>AC 0011</td>\n",
       "        <td>None</td>\n",
       "        <td>Jo Ann   Drusbosky</td>\n",
       "        <td>3</td>\n",
       "        <td>30</td>\n",
       "        <td>32</td>\n",
       "        <td>-2</td>\n",
       "    </tr>\n",
       "    <tr>\n",
       "        <td>71105</td>\n",
       "        <td>Fall2014</td>\n",
       "        <td>I</td>\n",
       "        <td>AC 0011</td>\n",
       "        <td>None</td>\n",
       "        <td>Jo Ann   Drusbosky</td>\n",
       "        <td>3</td>\n",
       "        <td>30</td>\n",
       "        <td>33</td>\n",
       "        <td>-3</td>\n",
       "    </tr>\n",
       "    <tr>\n",
       "        <td>71123</td>\n",
       "        <td>Fall2014</td>\n",
       "        <td>J</td>\n",
       "        <td>AC 0011</td>\n",
       "        <td>None</td>\n",
       "        <td>Jo Ann   Drusbosky</td>\n",
       "        <td>3</td>\n",
       "        <td>30</td>\n",
       "        <td>32</td>\n",
       "        <td>-2</td>\n",
       "    </tr>\n",
       "    <tr>\n",
       "        <td>71208</td>\n",
       "        <td>Fall2014</td>\n",
       "        <td>K</td>\n",
       "        <td>AC 0011</td>\n",
       "        <td>None</td>\n",
       "        <td>Jo Ann   Drusbosky</td>\n",
       "        <td>3</td>\n",
       "        <td>30</td>\n",
       "        <td>34</td>\n",
       "        <td>-4</td>\n",
       "    </tr>\n",
       "    <tr>\n",
       "        <td>71763</td>\n",
       "        <td>Fall2014</td>\n",
       "        <td>L</td>\n",
       "        <td>AC 0011</td>\n",
       "        <td>None</td>\n",
       "        <td>Arleen N.  Kardos</td>\n",
       "        <td>3</td>\n",
       "        <td>30</td>\n",
       "        <td>31</td>\n",
       "        <td>-1</td>\n",
       "    </tr>\n",
       "    <tr>\n",
       "        <td>72615</td>\n",
       "        <td>Fall2014</td>\n",
       "        <td>M</td>\n",
       "        <td>AC 0011</td>\n",
       "        <td>None</td>\n",
       "        <td>Arleen N.  Kardos</td>\n",
       "        <td>3</td>\n",
       "        <td>30</td>\n",
       "        <td>31</td>\n",
       "        <td>-1</td>\n",
       "    </tr>\n",
       "    <tr>\n",
       "        <td>72616</td>\n",
       "        <td>Fall2014</td>\n",
       "        <td>N</td>\n",
       "        <td>AC 0011</td>\n",
       "        <td>None</td>\n",
       "        <td>Scott M  Brenner</td>\n",
       "        <td>3</td>\n",
       "        <td>30</td>\n",
       "        <td>26</td>\n",
       "        <td>4</td>\n",
       "    </tr>\n",
       "    <tr>\n",
       "        <td>70387</td>\n",
       "        <td>Fall2014</td>\n",
       "        <td>O</td>\n",
       "        <td>AC 0011</td>\n",
       "        <td>None</td>\n",
       "        <td>Kevin C.  Cassidy</td>\n",
       "        <td>3</td>\n",
       "        <td>30</td>\n",
       "        <td>31</td>\n",
       "        <td>-1</td>\n",
       "    </tr>\n",
       "    <tr>\n",
       "        <td>70292</td>\n",
       "        <td>Fall2014</td>\n",
       "        <td>A</td>\n",
       "        <td>AC 0012</td>\n",
       "        <td>None</td>\n",
       "        <td>Bruce   Bradford</td>\n",
       "        <td>3</td>\n",
       "        <td>30</td>\n",
       "        <td>17</td>\n",
       "        <td>13</td>\n",
       "    </tr>\n",
       "    <tr>\n",
       "        <td>70070</td>\n",
       "        <td>Fall2014</td>\n",
       "        <td>A</td>\n",
       "        <td>AC 0203</td>\n",
       "        <td>None</td>\n",
       "        <td>Milo W.  Peck</td>\n",
       "        <td>3</td>\n",
       "        <td>28</td>\n",
       "        <td>28</td>\n",
       "        <td>0</td>\n",
       "    </tr>\n",
       "    <tr>\n",
       "        <td>70071</td>\n",
       "        <td>Fall2014</td>\n",
       "        <td>B</td>\n",
       "        <td>AC 0203</td>\n",
       "        <td>None</td>\n",
       "        <td>Milo W.  Peck</td>\n",
       "        <td>3</td>\n",
       "        <td>28</td>\n",
       "        <td>28</td>\n",
       "        <td>0</td>\n",
       "    </tr>\n",
       "    <tr>\n",
       "        <td>73161</td>\n",
       "        <td>Fall2014</td>\n",
       "        <td>D</td>\n",
       "        <td>AC 0203</td>\n",
       "        <td>None</td>\n",
       "        <td>Milo W.  Peck</td>\n",
       "        <td>3</td>\n",
       "        <td>17</td>\n",
       "        <td>16</td>\n",
       "        <td>1</td>\n",
       "    </tr>\n",
       "    <tr>\n",
       "        <td>73162</td>\n",
       "        <td>Fall2014</td>\n",
       "        <td>E</td>\n",
       "        <td>AC 0203</td>\n",
       "        <td>None</td>\n",
       "        <td>Milo W.  Peck</td>\n",
       "        <td>3</td>\n",
       "        <td>24</td>\n",
       "        <td>22</td>\n",
       "        <td>2</td>\n",
       "    </tr>\n",
       "    <tr>\n",
       "        <td>70601</td>\n",
       "        <td>Fall2014</td>\n",
       "        <td>A</td>\n",
       "        <td>AC 0204</td>\n",
       "        <td>None</td>\n",
       "        <td>Stephen E.  Yost</td>\n",
       "        <td>3</td>\n",
       "        <td>10</td>\n",
       "        <td>12</td>\n",
       "        <td>-2</td>\n",
       "    </tr>\n",
       "    <tr>\n",
       "        <td>70360</td>\n",
       "        <td>Fall2014</td>\n",
       "        <td>AAA</td>\n",
       "        <td>AC 0204</td>\n",
       "        <td>None</td>\n",
       "        <td>Stephen E.  Yost</td>\n",
       "        <td>3</td>\n",
       "        <td>10</td>\n",
       "        <td>1</td>\n",
       "        <td>9</td>\n",
       "    </tr>\n",
       "    <tr>\n",
       "        <td>71437</td>\n",
       "        <td>Fall2014</td>\n",
       "        <td>A</td>\n",
       "        <td>AC 0310</td>\n",
       "        <td>None</td>\n",
       "        <td>Ahmed M.  Ebrahim</td>\n",
       "        <td>3</td>\n",
       "        <td>24</td>\n",
       "        <td>27</td>\n",
       "        <td>-3</td>\n",
       "    </tr>\n",
       "    <tr>\n",
       "        <td>71439</td>\n",
       "        <td>Fall2014</td>\n",
       "        <td>A</td>\n",
       "        <td>AC 0320</td>\n",
       "        <td>None</td>\n",
       "        <td>Bruce   Bradford</td>\n",
       "        <td>3</td>\n",
       "        <td>10</td>\n",
       "        <td>15</td>\n",
       "        <td>-5</td>\n",
       "    </tr>\n",
       "    <tr>\n",
       "        <td>70797</td>\n",
       "        <td>Fall2014</td>\n",
       "        <td>AAA</td>\n",
       "        <td>AC 0320</td>\n",
       "        <td>None</td>\n",
       "        <td>Bruce   Bradford</td>\n",
       "        <td>3</td>\n",
       "        <td>10</td>\n",
       "        <td>6</td>\n",
       "        <td>4</td>\n",
       "    </tr>\n",
       "</table>"
      ],
      "text/plain": [
       "[(70384, 'Fall2014', 'C01', 'AC 0011', None, 'Michael P.  Coyne', 3, 0, 31, -31),\n",
       " (70385, 'Fall2014', 'C02', 'AC 0011', None, 'Michael P.  Coyne', 3, 0, 31, -31),\n",
       " (70382, 'Fall2014', 'C03', 'AC 0011', None, 'Michael P.  Coyne', 3, 0, 31, -31),\n",
       " (70291, 'Fall2014', 'C04', 'AC 0011', None, 'Rebecca I.  Bloch', 3, 0, 29, -29),\n",
       " (70350, 'Fall2014', 'C05', 'AC 0011', None, 'Rebecca I.  Bloch', 3, 0, 30, -30),\n",
       " (70381, 'Fall2014', 'C06', 'AC 0011', None, 'Rebecca I.  Bloch', 3, 0, 31, -31),\n",
       " (70383, 'Fall2014', 'G', 'AC 0011', None, 'Paul   Caster', 3, 30, 31, -1),\n",
       " (70391, 'Fall2014', 'H', 'AC 0011', None, 'Jo Ann   Drusbosky', 3, 30, 32, -2),\n",
       " (71105, 'Fall2014', 'I', 'AC 0011', None, 'Jo Ann   Drusbosky', 3, 30, 33, -3),\n",
       " (71123, 'Fall2014', 'J', 'AC 0011', None, 'Jo Ann   Drusbosky', 3, 30, 32, -2),\n",
       " (71208, 'Fall2014', 'K', 'AC 0011', None, 'Jo Ann   Drusbosky', 3, 30, 34, -4),\n",
       " (71763, 'Fall2014', 'L', 'AC 0011', None, 'Arleen N.  Kardos', 3, 30, 31, -1),\n",
       " (72615, 'Fall2014', 'M', 'AC 0011', None, 'Arleen N.  Kardos', 3, 30, 31, -1),\n",
       " (72616, 'Fall2014', 'N', 'AC 0011', None, 'Scott M  Brenner', 3, 30, 26, 4),\n",
       " (70387, 'Fall2014', 'O', 'AC 0011', None, 'Kevin C.  Cassidy', 3, 30, 31, -1),\n",
       " (70292, 'Fall2014', 'A', 'AC 0012', None, 'Bruce   Bradford', 3, 30, 17, 13),\n",
       " (70070, 'Fall2014', 'A', 'AC 0203', None, 'Milo W.  Peck', 3, 28, 28, 0),\n",
       " (70071, 'Fall2014', 'B', 'AC 0203', None, 'Milo W.  Peck', 3, 28, 28, 0),\n",
       " (73161, 'Fall2014', 'D', 'AC 0203', None, 'Milo W.  Peck', 3, 17, 16, 1),\n",
       " (73162, 'Fall2014', 'E', 'AC 0203', None, 'Milo W.  Peck', 3, 24, 22, 2),\n",
       " (70601, 'Fall2014', 'A', 'AC 0204', None, 'Stephen E.  Yost', 3, 10, 12, -2),\n",
       " (70360, 'Fall2014', 'AAA', 'AC 0204', None, 'Stephen E.  Yost', 3, 10, 1, 9),\n",
       " (71437, 'Fall2014', 'A', 'AC 0310', None, 'Ahmed M.  Ebrahim', 3, 24, 27, -3),\n",
       " (71439, 'Fall2014', 'A', 'AC 0320', None, 'Bruce   Bradford', 3, 10, 15, -5),\n",
       " (70797, 'Fall2014', 'AAA', 'AC 0320', None, 'Bruce   Bradford', 3, 10, 6, 4)]"
      ]
     },
     "execution_count": 16,
     "metadata": {},
     "output_type": "execute_result"
    }
   ],
   "source": [
    "%%sql\n",
    "\n",
    "SELECT *\n",
    "FROM COURSES\n",
    "LIMIT 25"
   ]
  },
  {
   "cell_type": "code",
   "execution_count": 17,
   "metadata": {},
   "outputs": [
    {
     "name": "stdout",
     "output_type": "stream",
     "text": [
      " * sqlite:///CourseData.db\n",
      "Done.\n",
      "Done.\n",
      "Done.\n"
     ]
    },
    {
     "data": {
      "text/plain": [
       "[]"
      ]
     },
     "execution_count": 17,
     "metadata": {},
     "output_type": "execute_result"
    }
   ],
   "source": [
    "%%sql\n",
    "\n",
    "DROP TABLE IF EXISTS IMPORT_COURSE_OFFERINGS;\n",
    "DROP TABLE IF EXISTS IMPORT_COURSE_MEETINGS;\n",
    "DROP TABLE IF EXISTS IMPORT_CATALOG_COURSES;"
   ]
  },
  {
   "cell_type": "code",
   "execution_count": null,
   "metadata": {},
   "outputs": [],
   "source": []
  }
 ],
 "metadata": {
  "kernelspec": {
   "display_name": "Python 3",
   "language": "python",
   "name": "python3"
  },
  "language_info": {
   "codemirror_mode": {
    "name": "ipython",
    "version": 3
   },
   "file_extension": ".py",
   "mimetype": "text/x-python",
   "name": "python",
   "nbconvert_exporter": "python",
   "pygments_lexer": "ipython3",
   "version": "3.6.5"
  }
 },
 "nbformat": 4,
 "nbformat_minor": 2
}
