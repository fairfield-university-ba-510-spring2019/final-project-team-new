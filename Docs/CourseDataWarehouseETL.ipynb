{
 "cells": [
  {
   "cell_type": "markdown",
   "metadata": {},
   "source": [
    "### CourseDataWarehouse"
   ]
  },
  {
   "cell_type": "code",
   "execution_count": 1,
   "metadata": {},
   "outputs": [],
   "source": [
    "%load_ext sql\n",
    "import pandas as pd\n",
    "import sqlite3"
   ]
  },
  {
   "cell_type": "code",
   "execution_count": 2,
   "metadata": {},
   "outputs": [],
   "source": [
    "%sql sqlite:///CourseDataWarehouse.db\n",
    "conn = sqlite3.connect('CourseDataWarehouse.db')"
   ]
  },
  {
   "cell_type": "code",
   "execution_count": 3,
   "metadata": {},
   "outputs": [
    {
     "name": "stdout",
     "output_type": "stream",
     "text": [
      " * sqlite:///CourseDataWarehouse.db\n",
      "Done.\n",
      "Done.\n",
      "Done.\n",
      "Done.\n",
      "Done.\n",
      "Done.\n",
      "Done.\n",
      "Done.\n"
     ]
    },
    {
     "data": {
      "text/plain": [
       "[]"
      ]
     },
     "execution_count": 3,
     "metadata": {},
     "output_type": "execute_result"
    }
   ],
   "source": [
    "%%sql\n",
    "\n",
    "-- Drop the tables incase they already exist \n",
    "\n",
    "DROP TABLE IF EXISTS Courses;\n",
    "DROP TABLE IF EXISTS Course_Meeting;\n",
    "DROP TABLE IF EXISTS Catalog;\n",
    "DROP TABLE IF EXISTS Program;\n",
    "DROP TABLE IF EXISTS Fees;\n",
    "\n",
    "\n",
    "DROP TABLE IF EXISTS IMPORT_COURSE_OFFERINGS;\n",
    "DROP TABLE IF EXISTS IMPORT_COURSE_MEETINGS;\n",
    "DROP TABLE IF EXISTS IMPORT_CATALOG_COURSES;\n"
   ]
  },
  {
   "cell_type": "markdown",
   "metadata": {},
   "source": [
    "##### Create ERD tables - We are recreating the tables from the database to begin with"
   ]
  },
  {
   "cell_type": "code",
   "execution_count": 4,
   "metadata": {},
   "outputs": [
    {
     "name": "stdout",
     "output_type": "stream",
     "text": [
      " * sqlite:///CourseDataWarehouse.db\n",
      "Done.\n"
     ]
    },
    {
     "data": {
      "text/plain": [
       "[]"
      ]
     },
     "execution_count": 4,
     "metadata": {},
     "output_type": "execute_result"
    }
   ],
   "source": [
    "%%sql\n",
    "\n",
    "CREATE TABLE Courses (\n",
    "    CRN SMALLINT,\n",
    "    Term VARCHAR(20),\n",
    "    Section VARCHAR(10),\n",
    "    Cat_ID VARCHAR(10),\n",
    "    Faculty_Name VARCHAR(10),\n",
    "    Credits TINYINT,\n",
    "    Capacity SMALLINT,\n",
    "    Actual SMALLINT,\n",
    "    Remaining SMALLINT,\n",
    "    PRIMARY KEY (CRN, Term),\n",
    "    FOREIGN KEY(Cat_ID) REFERENCES Catalog(Cat_ID)\n",
    ");"
   ]
  },
  {
   "cell_type": "code",
   "execution_count": 5,
   "metadata": {},
   "outputs": [
    {
     "name": "stdout",
     "output_type": "stream",
     "text": [
      " * sqlite:///CourseDataWarehouse.db\n",
      "Done.\n"
     ]
    },
    {
     "data": {
      "text/plain": [
       "[]"
      ]
     },
     "execution_count": 5,
     "metadata": {},
     "output_type": "execute_result"
    }
   ],
   "source": [
    "%%sql\n",
    "\n",
    "CREATE TABLE Course_Meeting (\n",
    "    MID INTEGER PRIMARY KEY,\n",
    "    CRN SMALLINT,\n",
    "    Term VARCHAR(20),\n",
    "    Room TEXT,\n",
    "    Day TEXT,\n",
    "    Start_Time TIME,\n",
    "    End_Time TIME,  \n",
    "    FOREIGN KEY(CRN,Term) REFERENCES Courses(CRN,Term)\n",
    ");"
   ]
  },
  {
   "cell_type": "code",
   "execution_count": 6,
   "metadata": {},
   "outputs": [
    {
     "name": "stdout",
     "output_type": "stream",
     "text": [
      " * sqlite:///CourseDataWarehouse.db\n",
      "Done.\n"
     ]
    },
    {
     "data": {
      "text/plain": [
       "[]"
      ]
     },
     "execution_count": 6,
     "metadata": {},
     "output_type": "execute_result"
    }
   ],
   "source": [
    "\n",
    "%%sql\n",
    "\n",
    "CREATE TABLE Catalog (\n",
    "    Cat_ID VARCHAR(10) PRIMARY KEY,\n",
    "    Prg_Code VARCHAR(5),\n",
    "    Title VARCHAR(150),\n",
    "    Prerequisites VARCHAR(10),\n",
    "    Corequisites VARCHAR(10),\n",
    "    FOREIGN KEY(Prg_Code) REFERENCES Program(Prg_Code)\n",
    ");"
   ]
  },
  {
   "cell_type": "code",
   "execution_count": 7,
   "metadata": {},
   "outputs": [
    {
     "name": "stdout",
     "output_type": "stream",
     "text": [
      " * sqlite:///CourseDataWarehouse.db\n",
      "Done.\n"
     ]
    },
    {
     "data": {
      "text/plain": [
       "[]"
      ]
     },
     "execution_count": 7,
     "metadata": {},
     "output_type": "execute_result"
    }
   ],
   "source": [
    "%%sql\n",
    "\n",
    "CREATE TABLE Program (\n",
    "    Prg_Code VARCHAR(10) PRIMARY KEY,\n",
    "    Program_Name VARCHAR(150)\n",
    ");"
   ]
  },
  {
   "cell_type": "code",
   "execution_count": 8,
   "metadata": {},
   "outputs": [
    {
     "name": "stdout",
     "output_type": "stream",
     "text": [
      " * sqlite:///CourseDataWarehouse.db\n",
      "Done.\n"
     ]
    },
    {
     "data": {
      "text/plain": [
       "[]"
      ]
     },
     "execution_count": 8,
     "metadata": {},
     "output_type": "execute_result"
    }
   ],
   "source": [
    "%%sql\n",
    "\n",
    "CREATE TABLE Fees (\n",
    "    Cat_ID VARCHAR(10),\n",
    "    Academic_Year VARCHAR(20),\n",
    "    Fee TEXT,\n",
    "    PRIMARY KEY (Cat_ID, Academic_Year)\n",
    "    FOREIGN KEY(Cat_ID) REFERENCES Catalog(Cat_ID)\n",
    ");"
   ]
  },
  {
   "cell_type": "code",
   "execution_count": 9,
   "metadata": {},
   "outputs": [],
   "source": [
    "#Catalog Data - Loading all the catalogs csv files into a SQL table called IMPORT_CATALOG_COURSES\n",
    "\n",
    "catalog_years = ['2017_2018', '2018_2019']\n",
    "\n",
    "for cat_year in catalog_years:\n",
    "    filepath = '../SourceData/Catalogs/CourseCatalog'+cat_year+'.csv'\n",
    "    data = pd.read_csv(filepath)\n",
    "    data['cat_year'] = cat_year\n",
    "    data.to_sql('IMPORT_CATALOG_COURSES',conn,if_exists='append',index=False)"
   ]
  },
  {
   "cell_type": "code",
   "execution_count": 10,
   "metadata": {},
   "outputs": [],
   "source": [
    "#Course Offering and Course Meeting Data - Loading all the Course Offering and Course Meeting csv files into a SQL table called IMPORT_CATALOG_COURSES\n",
    "\n",
    "terms = ['Fall2014','Fall2015','Fall2016','Fall2017','Fall2018',\n",
    "         'Spring2015','Spring2016','Spring2017','Spring2018','Spring2019',\n",
    "        'SpringBreak2017',\n",
    "         'Summer2015','Summer2016','Summer2017','Summer2018',\n",
    "         'Winter2015','Winter2016','Winter2017','Winter2018']\n",
    "\n",
    "for term in terms:\n",
    "    filepath = '../SourceData/'+term+'/courses.csv'\n",
    "    data = pd.read_csv(filepath)\n",
    "    data.to_sql('IMPORT_COURSE_OFFERINGS',conn,if_exists='append',index=False) \n",
    "    \n",
    "    filepath = '../SourceData/'+term+'/course_meetings.csv'\n",
    "    data = pd.read_csv(filepath)\n",
    "    data.to_sql('IMPORT_COURSE_MEETINGS',conn,if_exists='append',index=False)"
   ]
  },
  {
   "cell_type": "markdown",
   "metadata": {},
   "source": [
    "\n",
    "\n",
    "##### Insert into ERD tables\n"
   ]
  },
  {
   "cell_type": "markdown",
   "metadata": {},
   "source": [
    "-- Insert the data from IMPORT_CATALOG_COURSES into the Program table --"
   ]
  },
  {
   "cell_type": "code",
   "execution_count": 11,
   "metadata": {},
   "outputs": [
    {
     "name": "stdout",
     "output_type": "stream",
     "text": [
      " * sqlite:///CourseDataWarehouse.db\n",
      "83 rows affected.\n"
     ]
    },
    {
     "data": {
      "text/plain": [
       "[]"
      ]
     },
     "execution_count": 11,
     "metadata": {},
     "output_type": "execute_result"
    }
   ],
   "source": [
    "%%sql\n",
    "\n",
    "INSERT INTO Program (Prg_Code, Program_Name)\n",
    "SELECT DISTINCT program_code, program_name \n",
    "FROM IMPORT_CATALOG_COURSES;"
   ]
  },
  {
   "cell_type": "markdown",
   "metadata": {},
   "source": [
    "-- Insert the data from IMPORT_CATALOG_COURSES into the Catalog table and linking to Program table --"
   ]
  },
  {
   "cell_type": "code",
   "execution_count": 12,
   "metadata": {},
   "outputs": [
    {
     "name": "stdout",
     "output_type": "stream",
     "text": [
      " * sqlite:///CourseDataWarehouse.db\n",
      "2220 rows affected.\n"
     ]
    },
    {
     "data": {
      "text/plain": [
       "[]"
      ]
     },
     "execution_count": 12,
     "metadata": {},
     "output_type": "execute_result"
    }
   ],
   "source": [
    "%%sql\n",
    "\n",
    "INSERT INTO Catalog (Cat_ID, Prg_Code, Title, Prerequisites, Corequisites)\n",
    "SELECT DISTINCT catalog_id, program_code, course_title,prereqs,coreqs\n",
    "FROM IMPORT_CATALOG_COURSES \n",
    "    JOIN Program ON (Prg_Code = program_code);"
   ]
  },
  {
   "cell_type": "markdown",
   "metadata": {},
   "source": [
    "-- Insert the data from IMPORT_COURSE_MEETINGS into the Course_Meeting table "
   ]
  },
  {
   "cell_type": "code",
   "execution_count": 13,
   "metadata": {},
   "outputs": [
    {
     "name": "stdout",
     "output_type": "stream",
     "text": [
      " * sqlite:///CourseDataWarehouse.db\n",
      "311141 rows affected.\n"
     ]
    },
    {
     "data": {
      "text/plain": [
       "[]"
      ]
     },
     "execution_count": 13,
     "metadata": {},
     "output_type": "execute_result"
    }
   ],
   "source": [
    "%%sql\n",
    "\n",
    "INSERT INTO Course_Meeting (CRN, Term, Room, Day, Start_Time, End_Time)\n",
    "SELECT DISTINCT crn, term, location, day, start, end\n",
    "FROM IMPORT_COURSE_MEETINGS;"
   ]
  },
  {
   "cell_type": "markdown",
   "metadata": {},
   "source": [
    "-- Insert the data from IMPORT_COURSE_OFFERINGS into the Courses table and linking the Course Meeting and Catalog tables"
   ]
  },
  {
   "cell_type": "code",
   "execution_count": 14,
   "metadata": {},
   "outputs": [
    {
     "name": "stdout",
     "output_type": "stream",
     "text": [
      " * sqlite:///CourseDataWarehouse.db\n",
      "15937 rows affected.\n"
     ]
    },
    {
     "data": {
      "text/plain": [
       "[]"
      ]
     },
     "execution_count": 14,
     "metadata": {},
     "output_type": "execute_result"
    }
   ],
   "source": [
    "%%sql\n",
    "\n",
    "INSERT INTO Courses (CRN, Term, Section, Cat_ID, Faculty_Name, Credits, Capacity, Actual, Remaining)\n",
    "SELECT DISTINCT IMPORT_COURSE_OFFERINGS.crn, IMPORT_COURSE_OFFERINGS.term, section, catalog_id, primary_instructor, credits, cap, act, rem\n",
    "FROM IMPORT_COURSE_OFFERINGS\n",
    "    LEFT JOIN Course_Meeting ON Course_Meeting.CRN = IMPORT_COURSE_OFFERINGS.crn AND Course_Meeting.Term = IMPORT_COURSE_OFFERINGS.term\n",
    "    LEFT JOIN Catalog ON Catalog.Cat_ID = IMPORT_COURSE_OFFERINGS.catalog_id;"
   ]
  },
  {
   "cell_type": "markdown",
   "metadata": {},
   "source": [
    "-- Insert the data from IMPORT_COURSE_COURSES into the Fees table and linking the Catalog Table"
   ]
  },
  {
   "cell_type": "code",
   "execution_count": 15,
   "metadata": {},
   "outputs": [
    {
     "name": "stdout",
     "output_type": "stream",
     "text": [
      " * sqlite:///CourseDataWarehouse.db\n",
      "4440 rows affected.\n"
     ]
    },
    {
     "data": {
      "text/plain": [
       "[]"
      ]
     },
     "execution_count": 15,
     "metadata": {},
     "output_type": "execute_result"
    }
   ],
   "source": [
    "%%sql\n",
    "\n",
    "INSERT INTO Fees (Cat_ID, Academic_Year, Fee )\n",
    "SELECT DISTINCT catalog_id, cat_year, fees\n",
    "FROM IMPORT_CATALOG_COURSES\n",
    "    LEFT JOIN Catalog ON Catalog.Cat_ID = IMPORT_CATALOG_COURSES.catalog_id;   "
   ]
  },
  {
   "cell_type": "markdown",
   "metadata": {},
   "source": [
    "**Drop Datawarehouse Tables in case they already exist**"
   ]
  },
  {
   "cell_type": "code",
   "execution_count": 16,
   "metadata": {},
   "outputs": [
    {
     "name": "stdout",
     "output_type": "stream",
     "text": [
      " * sqlite:///CourseDataWarehouse.db\n",
      "Done.\n",
      "Done.\n",
      "Done.\n",
      "Done.\n",
      "Done.\n"
     ]
    },
    {
     "data": {
      "text/plain": [
       "[]"
      ]
     },
     "execution_count": 16,
     "metadata": {},
     "output_type": "execute_result"
    }
   ],
   "source": [
    "%%sql\n",
    "\n",
    "DROP TABLE IF EXISTS Location;\n",
    "DROP TABLE IF EXISTS Course_Facts;\n",
    "DROP TABLE IF EXISTS Meeting;\n",
    "DROP TABLE IF EXISTS Fees1;\n",
    "DROP TABLE IF EXISTS Program1;\n"
   ]
  },
  {
   "cell_type": "markdown",
   "metadata": {},
   "source": [
    "## Create New Datawarehouse Tables"
   ]
  },
  {
   "cell_type": "code",
   "execution_count": 17,
   "metadata": {},
   "outputs": [
    {
     "name": "stdout",
     "output_type": "stream",
     "text": [
      " * sqlite:///CourseDataWarehouse.db\n",
      "Done.\n"
     ]
    },
    {
     "data": {
      "text/plain": [
       "[]"
      ]
     },
     "execution_count": 17,
     "metadata": {},
     "output_type": "execute_result"
    }
   ],
   "source": [
    "%%sql\n",
    "\n",
    "CREATE TABLE Location (\n",
    "    LID INTEGER PRIMARY KEY,\n",
    "    Room TEXT\n",
    ");"
   ]
  },
  {
   "cell_type": "markdown",
   "metadata": {},
   "source": [
    "-- Insert the data from Course_Meeting into the Location table"
   ]
  },
  {
   "cell_type": "code",
   "execution_count": 18,
   "metadata": {},
   "outputs": [
    {
     "name": "stdout",
     "output_type": "stream",
     "text": [
      " * sqlite:///CourseDataWarehouse.db\n",
      "207 rows affected.\n"
     ]
    },
    {
     "data": {
      "text/plain": [
       "[]"
      ]
     },
     "execution_count": 18,
     "metadata": {},
     "output_type": "execute_result"
    }
   ],
   "source": [
    "%%sql\n",
    "\n",
    "INSERT INTO Location (Room)\n",
    "SELECT DISTINCT Room \n",
    "FROM Course_Meeting;"
   ]
  },
  {
   "cell_type": "code",
   "execution_count": 19,
   "metadata": {},
   "outputs": [
    {
     "name": "stdout",
     "output_type": "stream",
     "text": [
      " * sqlite:///CourseDataWarehouse.db\n",
      "Done.\n"
     ]
    },
    {
     "data": {
      "text/plain": [
       "[]"
      ]
     },
     "execution_count": 19,
     "metadata": {},
     "output_type": "execute_result"
    }
   ],
   "source": [
    "%%sql\n",
    "\n",
    "CREATE TABLE Program1 (\n",
    "    PID INTEGER PRIMARY KEY,\n",
    "    Prg_Code VARCHAR(10),\n",
    "    Program_Name VARCHAR(150)\n",
    ");"
   ]
  },
  {
   "cell_type": "markdown",
   "metadata": {},
   "source": [
    "-- Insert the data from Import_Catalog_Courses into the Program1 table"
   ]
  },
  {
   "cell_type": "code",
   "execution_count": 20,
   "metadata": {},
   "outputs": [
    {
     "name": "stdout",
     "output_type": "stream",
     "text": [
      " * sqlite:///CourseDataWarehouse.db\n",
      "83 rows affected.\n"
     ]
    },
    {
     "data": {
      "text/plain": [
       "[]"
      ]
     },
     "execution_count": 20,
     "metadata": {},
     "output_type": "execute_result"
    }
   ],
   "source": [
    "%%sql\n",
    "\n",
    "INSERT INTO Program1 (Prg_Code, Program_Name)\n",
    "SELECT DISTINCT Prg_Code, Program_name \n",
    "FROM Program;"
   ]
  },
  {
   "cell_type": "code",
   "execution_count": 21,
   "metadata": {},
   "outputs": [
    {
     "name": "stdout",
     "output_type": "stream",
     "text": [
      " * sqlite:///CourseDataWarehouse.db\n",
      "Done.\n"
     ]
    },
    {
     "data": {
      "text/plain": [
       "[]"
      ]
     },
     "execution_count": 21,
     "metadata": {},
     "output_type": "execute_result"
    }
   ],
   "source": [
    "%%sql\n",
    "\n",
    "CREATE TABLE Meeting (\n",
    "    MID INTEGER PRIMARY KEY,\n",
    "    Cat_ID TEXT,\n",
    "    Day TEXT,\n",
    "    Start_Time TIME,\n",
    "    End_Time TIME  \n",
    ");"
   ]
  },
  {
   "cell_type": "markdown",
   "metadata": {},
   "source": [
    "-- Insert the data from Import_Catalog_Courses into the Meeting table"
   ]
  },
  {
   "cell_type": "code",
   "execution_count": 22,
   "metadata": {},
   "outputs": [
    {
     "name": "stdout",
     "output_type": "stream",
     "text": [
      " * sqlite:///CourseDataWarehouse.db\n",
      "42551 rows affected.\n"
     ]
    },
    {
     "data": {
      "text/plain": [
       "[]"
      ]
     },
     "execution_count": 22,
     "metadata": {},
     "output_type": "execute_result"
    }
   ],
   "source": [
    "%%sql\n",
    "\n",
    "INSERT INTO Meeting (Day, Start_Time, End_Time)\n",
    "SELECT DISTINCT Day, Start_Time, End_Time\n",
    "FROM Course_Meeting\n"
   ]
  },
  {
   "cell_type": "code",
   "execution_count": 23,
   "metadata": {},
   "outputs": [
    {
     "name": "stdout",
     "output_type": "stream",
     "text": [
      " * sqlite:///CourseDataWarehouse.db\n",
      "Done.\n"
     ]
    },
    {
     "data": {
      "text/html": [
       "<table>\n",
       "    <tr>\n",
       "        <th>MID</th>\n",
       "        <th>CRN</th>\n",
       "        <th>Term</th>\n",
       "        <th>Room</th>\n",
       "        <th>Day</th>\n",
       "        <th>Start_Time</th>\n",
       "        <th>End_Time</th>\n",
       "    </tr>\n",
       "    <tr>\n",
       "        <td>1</td>\n",
       "        <td>70384</td>\n",
       "        <td>Fall2014</td>\n",
       "        <td>DSB 105</td>\n",
       "        <td>T</td>\n",
       "        <td>2014-09-02T08:00:00</td>\n",
       "        <td>2014-09-02T09:15:00</td>\n",
       "    </tr>\n",
       "    <tr>\n",
       "        <td>2</td>\n",
       "        <td>70384</td>\n",
       "        <td>Fall2014</td>\n",
       "        <td>DSB 105</td>\n",
       "        <td>F</td>\n",
       "        <td>2014-09-05T08:00:00</td>\n",
       "        <td>2014-09-05T09:15:00</td>\n",
       "    </tr>\n",
       "    <tr>\n",
       "        <td>3</td>\n",
       "        <td>70384</td>\n",
       "        <td>Fall2014</td>\n",
       "        <td>DSB 105</td>\n",
       "        <td>T</td>\n",
       "        <td>2014-09-09T08:00:00</td>\n",
       "        <td>2014-09-09T09:15:00</td>\n",
       "    </tr>\n",
       "    <tr>\n",
       "        <td>4</td>\n",
       "        <td>70384</td>\n",
       "        <td>Fall2014</td>\n",
       "        <td>DSB 105</td>\n",
       "        <td>F</td>\n",
       "        <td>2014-09-12T08:00:00</td>\n",
       "        <td>2014-09-12T09:15:00</td>\n",
       "    </tr>\n",
       "    <tr>\n",
       "        <td>5</td>\n",
       "        <td>70384</td>\n",
       "        <td>Fall2014</td>\n",
       "        <td>DSB 105</td>\n",
       "        <td>T</td>\n",
       "        <td>2014-09-16T08:00:00</td>\n",
       "        <td>2014-09-16T09:15:00</td>\n",
       "    </tr>\n",
       "    <tr>\n",
       "        <td>6</td>\n",
       "        <td>70384</td>\n",
       "        <td>Fall2014</td>\n",
       "        <td>DSB 105</td>\n",
       "        <td>F</td>\n",
       "        <td>2014-09-19T08:00:00</td>\n",
       "        <td>2014-09-19T09:15:00</td>\n",
       "    </tr>\n",
       "    <tr>\n",
       "        <td>7</td>\n",
       "        <td>70384</td>\n",
       "        <td>Fall2014</td>\n",
       "        <td>DSB 105</td>\n",
       "        <td>T</td>\n",
       "        <td>2014-09-23T08:00:00</td>\n",
       "        <td>2014-09-23T09:15:00</td>\n",
       "    </tr>\n",
       "    <tr>\n",
       "        <td>8</td>\n",
       "        <td>70384</td>\n",
       "        <td>Fall2014</td>\n",
       "        <td>DSB 105</td>\n",
       "        <td>F</td>\n",
       "        <td>2014-09-26T08:00:00</td>\n",
       "        <td>2014-09-26T09:15:00</td>\n",
       "    </tr>\n",
       "    <tr>\n",
       "        <td>9</td>\n",
       "        <td>70384</td>\n",
       "        <td>Fall2014</td>\n",
       "        <td>DSB 105</td>\n",
       "        <td>T</td>\n",
       "        <td>2014-09-30T08:00:00</td>\n",
       "        <td>2014-09-30T09:15:00</td>\n",
       "    </tr>\n",
       "    <tr>\n",
       "        <td>10</td>\n",
       "        <td>70384</td>\n",
       "        <td>Fall2014</td>\n",
       "        <td>DSB 105</td>\n",
       "        <td>F</td>\n",
       "        <td>2014-10-03T08:00:00</td>\n",
       "        <td>2014-10-03T09:15:00</td>\n",
       "    </tr>\n",
       "    <tr>\n",
       "        <td>11</td>\n",
       "        <td>70384</td>\n",
       "        <td>Fall2014</td>\n",
       "        <td>DSB 105</td>\n",
       "        <td>T</td>\n",
       "        <td>2014-10-07T08:00:00</td>\n",
       "        <td>2014-10-07T09:15:00</td>\n",
       "    </tr>\n",
       "    <tr>\n",
       "        <td>12</td>\n",
       "        <td>70384</td>\n",
       "        <td>Fall2014</td>\n",
       "        <td>DSB 105</td>\n",
       "        <td>F</td>\n",
       "        <td>2014-10-10T08:00:00</td>\n",
       "        <td>2014-10-10T09:15:00</td>\n",
       "    </tr>\n",
       "    <tr>\n",
       "        <td>13</td>\n",
       "        <td>70384</td>\n",
       "        <td>Fall2014</td>\n",
       "        <td>DSB 105</td>\n",
       "        <td>F</td>\n",
       "        <td>2014-10-17T08:00:00</td>\n",
       "        <td>2014-10-17T09:15:00</td>\n",
       "    </tr>\n",
       "    <tr>\n",
       "        <td>14</td>\n",
       "        <td>70384</td>\n",
       "        <td>Fall2014</td>\n",
       "        <td>DSB 105</td>\n",
       "        <td>T</td>\n",
       "        <td>2014-10-21T08:00:00</td>\n",
       "        <td>2014-10-21T09:15:00</td>\n",
       "    </tr>\n",
       "    <tr>\n",
       "        <td>15</td>\n",
       "        <td>70384</td>\n",
       "        <td>Fall2014</td>\n",
       "        <td>DSB 105</td>\n",
       "        <td>F</td>\n",
       "        <td>2014-10-24T08:00:00</td>\n",
       "        <td>2014-10-24T09:15:00</td>\n",
       "    </tr>\n",
       "    <tr>\n",
       "        <td>16</td>\n",
       "        <td>70384</td>\n",
       "        <td>Fall2014</td>\n",
       "        <td>DSB 105</td>\n",
       "        <td>T</td>\n",
       "        <td>2014-10-28T08:00:00</td>\n",
       "        <td>2014-10-28T09:15:00</td>\n",
       "    </tr>\n",
       "    <tr>\n",
       "        <td>17</td>\n",
       "        <td>70384</td>\n",
       "        <td>Fall2014</td>\n",
       "        <td>DSB 105</td>\n",
       "        <td>F</td>\n",
       "        <td>2014-10-31T08:00:00</td>\n",
       "        <td>2014-10-31T09:15:00</td>\n",
       "    </tr>\n",
       "    <tr>\n",
       "        <td>18</td>\n",
       "        <td>70384</td>\n",
       "        <td>Fall2014</td>\n",
       "        <td>DSB 105</td>\n",
       "        <td>T</td>\n",
       "        <td>2014-11-04T08:00:00</td>\n",
       "        <td>2014-11-04T09:15:00</td>\n",
       "    </tr>\n",
       "    <tr>\n",
       "        <td>19</td>\n",
       "        <td>70384</td>\n",
       "        <td>Fall2014</td>\n",
       "        <td>DSB 105</td>\n",
       "        <td>F</td>\n",
       "        <td>2014-11-07T08:00:00</td>\n",
       "        <td>2014-11-07T09:15:00</td>\n",
       "    </tr>\n",
       "    <tr>\n",
       "        <td>20</td>\n",
       "        <td>70384</td>\n",
       "        <td>Fall2014</td>\n",
       "        <td>DSB 105</td>\n",
       "        <td>T</td>\n",
       "        <td>2014-11-11T08:00:00</td>\n",
       "        <td>2014-11-11T09:15:00</td>\n",
       "    </tr>\n",
       "    <tr>\n",
       "        <td>21</td>\n",
       "        <td>70384</td>\n",
       "        <td>Fall2014</td>\n",
       "        <td>DSB 105</td>\n",
       "        <td>F</td>\n",
       "        <td>2014-11-14T08:00:00</td>\n",
       "        <td>2014-11-14T09:15:00</td>\n",
       "    </tr>\n",
       "    <tr>\n",
       "        <td>22</td>\n",
       "        <td>70384</td>\n",
       "        <td>Fall2014</td>\n",
       "        <td>DSB 105</td>\n",
       "        <td>T</td>\n",
       "        <td>2014-11-18T08:00:00</td>\n",
       "        <td>2014-11-18T09:15:00</td>\n",
       "    </tr>\n",
       "    <tr>\n",
       "        <td>23</td>\n",
       "        <td>70384</td>\n",
       "        <td>Fall2014</td>\n",
       "        <td>DSB 105</td>\n",
       "        <td>F</td>\n",
       "        <td>2014-11-21T08:00:00</td>\n",
       "        <td>2014-11-21T09:15:00</td>\n",
       "    </tr>\n",
       "    <tr>\n",
       "        <td>24</td>\n",
       "        <td>70384</td>\n",
       "        <td>Fall2014</td>\n",
       "        <td>DSB 105</td>\n",
       "        <td>T</td>\n",
       "        <td>2014-11-25T08:00:00</td>\n",
       "        <td>2014-11-25T09:15:00</td>\n",
       "    </tr>\n",
       "    <tr>\n",
       "        <td>25</td>\n",
       "        <td>70384</td>\n",
       "        <td>Fall2014</td>\n",
       "        <td>DSB 105</td>\n",
       "        <td>T</td>\n",
       "        <td>2014-12-02T08:00:00</td>\n",
       "        <td>2014-12-02T09:15:00</td>\n",
       "    </tr>\n",
       "</table>"
      ],
      "text/plain": [
       "[(1, 70384, 'Fall2014', 'DSB 105', 'T', '2014-09-02T08:00:00', '2014-09-02T09:15:00'),\n",
       " (2, 70384, 'Fall2014', 'DSB 105', 'F', '2014-09-05T08:00:00', '2014-09-05T09:15:00'),\n",
       " (3, 70384, 'Fall2014', 'DSB 105', 'T', '2014-09-09T08:00:00', '2014-09-09T09:15:00'),\n",
       " (4, 70384, 'Fall2014', 'DSB 105', 'F', '2014-09-12T08:00:00', '2014-09-12T09:15:00'),\n",
       " (5, 70384, 'Fall2014', 'DSB 105', 'T', '2014-09-16T08:00:00', '2014-09-16T09:15:00'),\n",
       " (6, 70384, 'Fall2014', 'DSB 105', 'F', '2014-09-19T08:00:00', '2014-09-19T09:15:00'),\n",
       " (7, 70384, 'Fall2014', 'DSB 105', 'T', '2014-09-23T08:00:00', '2014-09-23T09:15:00'),\n",
       " (8, 70384, 'Fall2014', 'DSB 105', 'F', '2014-09-26T08:00:00', '2014-09-26T09:15:00'),\n",
       " (9, 70384, 'Fall2014', 'DSB 105', 'T', '2014-09-30T08:00:00', '2014-09-30T09:15:00'),\n",
       " (10, 70384, 'Fall2014', 'DSB 105', 'F', '2014-10-03T08:00:00', '2014-10-03T09:15:00'),\n",
       " (11, 70384, 'Fall2014', 'DSB 105', 'T', '2014-10-07T08:00:00', '2014-10-07T09:15:00'),\n",
       " (12, 70384, 'Fall2014', 'DSB 105', 'F', '2014-10-10T08:00:00', '2014-10-10T09:15:00'),\n",
       " (13, 70384, 'Fall2014', 'DSB 105', 'F', '2014-10-17T08:00:00', '2014-10-17T09:15:00'),\n",
       " (14, 70384, 'Fall2014', 'DSB 105', 'T', '2014-10-21T08:00:00', '2014-10-21T09:15:00'),\n",
       " (15, 70384, 'Fall2014', 'DSB 105', 'F', '2014-10-24T08:00:00', '2014-10-24T09:15:00'),\n",
       " (16, 70384, 'Fall2014', 'DSB 105', 'T', '2014-10-28T08:00:00', '2014-10-28T09:15:00'),\n",
       " (17, 70384, 'Fall2014', 'DSB 105', 'F', '2014-10-31T08:00:00', '2014-10-31T09:15:00'),\n",
       " (18, 70384, 'Fall2014', 'DSB 105', 'T', '2014-11-04T08:00:00', '2014-11-04T09:15:00'),\n",
       " (19, 70384, 'Fall2014', 'DSB 105', 'F', '2014-11-07T08:00:00', '2014-11-07T09:15:00'),\n",
       " (20, 70384, 'Fall2014', 'DSB 105', 'T', '2014-11-11T08:00:00', '2014-11-11T09:15:00'),\n",
       " (21, 70384, 'Fall2014', 'DSB 105', 'F', '2014-11-14T08:00:00', '2014-11-14T09:15:00'),\n",
       " (22, 70384, 'Fall2014', 'DSB 105', 'T', '2014-11-18T08:00:00', '2014-11-18T09:15:00'),\n",
       " (23, 70384, 'Fall2014', 'DSB 105', 'F', '2014-11-21T08:00:00', '2014-11-21T09:15:00'),\n",
       " (24, 70384, 'Fall2014', 'DSB 105', 'T', '2014-11-25T08:00:00', '2014-11-25T09:15:00'),\n",
       " (25, 70384, 'Fall2014', 'DSB 105', 'T', '2014-12-02T08:00:00', '2014-12-02T09:15:00')]"
      ]
     },
     "execution_count": 23,
     "metadata": {},
     "output_type": "execute_result"
    }
   ],
   "source": [
    "%%sql\n",
    "\n",
    "SELECT *\n",
    "FROM Course_Meeting\n",
    "LIMIT 25;\n"
   ]
  },
  {
   "cell_type": "code",
   "execution_count": 24,
   "metadata": {},
   "outputs": [
    {
     "name": "stdout",
     "output_type": "stream",
     "text": [
      " * sqlite:///CourseDataWarehouse.db\n",
      "Done.\n"
     ]
    },
    {
     "data": {
      "text/plain": [
       "[]"
      ]
     },
     "execution_count": 24,
     "metadata": {},
     "output_type": "execute_result"
    }
   ],
   "source": [
    "%%sql\n",
    "\n",
    "CREATE TABLE Fees1 (\n",
    "    Fee_ID INTEGER PRIMARY KEY,\n",
    "    Cat_ID VARCHAR(10),\n",
    "    Academic_Year VARCHAR(20),\n",
    "    Amount VARCHAR(50)\n",
    ");"
   ]
  },
  {
   "cell_type": "markdown",
   "metadata": {},
   "source": [
    "-- Insert the data from Import_Catalog_Courses into the Fees table"
   ]
  },
  {
   "cell_type": "code",
   "execution_count": 25,
   "metadata": {},
   "outputs": [
    {
     "name": "stdout",
     "output_type": "stream",
     "text": [
      " * sqlite:///CourseDataWarehouse.db\n",
      "250 rows affected.\n"
     ]
    },
    {
     "data": {
      "text/plain": [
       "[]"
      ]
     },
     "execution_count": 25,
     "metadata": {},
     "output_type": "execute_result"
    }
   ],
   "source": [
    "%%sql\n",
    "\n",
    "INSERT INTO Fees1 (Cat_ID, Academic_Year, Amount )\n",
    "SELECT Cat_ID, Academic_Year, fee \n",
    "FROM Fees\n",
    "WHERE fee NOT NULL\n",
    ";\n"
   ]
  },
  {
   "cell_type": "code",
   "execution_count": 26,
   "metadata": {},
   "outputs": [
    {
     "name": "stdout",
     "output_type": "stream",
     "text": [
      " * sqlite:///CourseDataWarehouse.db\n",
      "Done.\n"
     ]
    },
    {
     "data": {
      "text/html": [
       "<table>\n",
       "    <tr>\n",
       "        <th>Fee_ID</th>\n",
       "        <th>Fee_ID_1</th>\n",
       "        <th>Cat_ID</th>\n",
       "        <th>Academic_Year</th>\n",
       "        <th>Amount</th>\n",
       "    </tr>\n",
       "    <tr>\n",
       "        <td>1</td>\n",
       "        <td>1</td>\n",
       "        <td>BI 0107</td>\n",
       "        <td>2017_2018</td>\n",
       "        <td>$55 Science Lab Fee</td>\n",
       "    </tr>\n",
       "    <tr>\n",
       "        <td>2</td>\n",
       "        <td>2</td>\n",
       "        <td>BI 0108</td>\n",
       "        <td>2017_2018</td>\n",
       "        <td>$55 Science Lab Fee</td>\n",
       "    </tr>\n",
       "    <tr>\n",
       "        <td>3</td>\n",
       "        <td>3</td>\n",
       "        <td>SA 0011</td>\n",
       "        <td>2017_2018</td>\n",
       "        <td>$55 Materials Fee</td>\n",
       "    </tr>\n",
       "    <tr>\n",
       "        <td>4</td>\n",
       "        <td>4</td>\n",
       "        <td>BI 0151</td>\n",
       "        <td>2017_2018</td>\n",
       "        <td>$55 Science Lab Fee</td>\n",
       "    </tr>\n",
       "    <tr>\n",
       "        <td>5</td>\n",
       "        <td>5</td>\n",
       "        <td>SA 0012</td>\n",
       "        <td>2017_2018</td>\n",
       "        <td>$55 Materials Fee</td>\n",
       "    </tr>\n",
       "    <tr>\n",
       "        <td>6</td>\n",
       "        <td>6</td>\n",
       "        <td>SA 0013</td>\n",
       "        <td>2017_2018</td>\n",
       "        <td>$55 Materials Fee</td>\n",
       "    </tr>\n",
       "    <tr>\n",
       "        <td>7</td>\n",
       "        <td>7</td>\n",
       "        <td>SA 0014</td>\n",
       "        <td>2017_2018</td>\n",
       "        <td>$55 Materials Fee</td>\n",
       "    </tr>\n",
       "    <tr>\n",
       "        <td>8</td>\n",
       "        <td>8</td>\n",
       "        <td>SA 0015</td>\n",
       "        <td>2017_2018</td>\n",
       "        <td>$55 Materials Fee</td>\n",
       "    </tr>\n",
       "    <tr>\n",
       "        <td>9</td>\n",
       "        <td>9</td>\n",
       "        <td>SA 0016</td>\n",
       "        <td>2017_2018</td>\n",
       "        <td>$55 Materials Fee</td>\n",
       "    </tr>\n",
       "    <tr>\n",
       "        <td>10</td>\n",
       "        <td>10</td>\n",
       "        <td>BI 0170</td>\n",
       "        <td>2017_2018</td>\n",
       "        <td>$55 Science Lab Fee</td>\n",
       "    </tr>\n",
       "    <tr>\n",
       "        <td>11</td>\n",
       "        <td>11</td>\n",
       "        <td>BI 0171</td>\n",
       "        <td>2017_2018</td>\n",
       "        <td>$55 Science Lab Fee</td>\n",
       "    </tr>\n",
       "    <tr>\n",
       "        <td>12</td>\n",
       "        <td>12</td>\n",
       "        <td>SA 0100</td>\n",
       "        <td>2017_2018</td>\n",
       "        <td>$55 Materials Fee</td>\n",
       "    </tr>\n",
       "    <tr>\n",
       "        <td>13</td>\n",
       "        <td>13</td>\n",
       "        <td>SA 0101</td>\n",
       "        <td>2017_2018</td>\n",
       "        <td>$55 Materials Fee</td>\n",
       "    </tr>\n",
       "    <tr>\n",
       "        <td>14</td>\n",
       "        <td>14</td>\n",
       "        <td>BI 0172</td>\n",
       "        <td>2017_2018</td>\n",
       "        <td>$55 Science Lab Fee</td>\n",
       "    </tr>\n",
       "    <tr>\n",
       "        <td>15</td>\n",
       "        <td>15</td>\n",
       "        <td>SA 0105</td>\n",
       "        <td>2017_2018</td>\n",
       "        <td>$55 Materials Fee</td>\n",
       "    </tr>\n",
       "    <tr>\n",
       "        <td>16</td>\n",
       "        <td>16</td>\n",
       "        <td>SA 0130</td>\n",
       "        <td>2017_2018</td>\n",
       "        <td>$55 Materials Fee</td>\n",
       "    </tr>\n",
       "    <tr>\n",
       "        <td>17</td>\n",
       "        <td>17</td>\n",
       "        <td>SA 0132</td>\n",
       "        <td>2017_2018</td>\n",
       "        <td>$55 Materials Fee</td>\n",
       "    </tr>\n",
       "    <tr>\n",
       "        <td>18</td>\n",
       "        <td>18</td>\n",
       "        <td>SA 0133</td>\n",
       "        <td>2017_2018</td>\n",
       "        <td>$105 Materials Fee</td>\n",
       "    </tr>\n",
       "    <tr>\n",
       "        <td>19</td>\n",
       "        <td>19</td>\n",
       "        <td>SA 0134</td>\n",
       "        <td>2017_2018</td>\n",
       "        <td>$105 Materials Fee</td>\n",
       "    </tr>\n",
       "    <tr>\n",
       "        <td>20</td>\n",
       "        <td>20</td>\n",
       "        <td>SA 0136</td>\n",
       "        <td>2017_2018</td>\n",
       "        <td>$55 Materials Fee</td>\n",
       "    </tr>\n",
       "    <tr>\n",
       "        <td>21</td>\n",
       "        <td>21</td>\n",
       "        <td>SA 0137</td>\n",
       "        <td>2017_2018</td>\n",
       "        <td>$55 Materials Fee</td>\n",
       "    </tr>\n",
       "    <tr>\n",
       "        <td>22</td>\n",
       "        <td>22</td>\n",
       "        <td>SA 0138</td>\n",
       "        <td>2017_2018</td>\n",
       "        <td>$55 Materials Fee</td>\n",
       "    </tr>\n",
       "    <tr>\n",
       "        <td>23</td>\n",
       "        <td>23</td>\n",
       "        <td>SA 0139</td>\n",
       "        <td>2017_2018</td>\n",
       "        <td>$55 Materials Fee</td>\n",
       "    </tr>\n",
       "    <tr>\n",
       "        <td>24</td>\n",
       "        <td>24</td>\n",
       "        <td>SA 0230</td>\n",
       "        <td>2017_2018</td>\n",
       "        <td>$55 Materials Fee</td>\n",
       "    </tr>\n",
       "    <tr>\n",
       "        <td>25</td>\n",
       "        <td>25</td>\n",
       "        <td>SA 0231</td>\n",
       "        <td>2017_2018</td>\n",
       "        <td>$55 Materials Fee</td>\n",
       "    </tr>\n",
       "</table>"
      ],
      "text/plain": [
       "[(1, 1, 'BI 0107', '2017_2018', '$55 Science Lab Fee'),\n",
       " (2, 2, 'BI 0108', '2017_2018', '$55 Science Lab Fee'),\n",
       " (3, 3, 'SA 0011', '2017_2018', '$55 Materials Fee'),\n",
       " (4, 4, 'BI 0151', '2017_2018', '$55 Science Lab Fee'),\n",
       " (5, 5, 'SA 0012', '2017_2018', '$55 Materials Fee'),\n",
       " (6, 6, 'SA 0013', '2017_2018', '$55 Materials Fee'),\n",
       " (7, 7, 'SA 0014', '2017_2018', '$55 Materials Fee'),\n",
       " (8, 8, 'SA 0015', '2017_2018', '$55 Materials Fee'),\n",
       " (9, 9, 'SA 0016', '2017_2018', '$55 Materials Fee'),\n",
       " (10, 10, 'BI 0170', '2017_2018', '$55 Science Lab Fee'),\n",
       " (11, 11, 'BI 0171', '2017_2018', '$55 Science Lab Fee'),\n",
       " (12, 12, 'SA 0100', '2017_2018', '$55 Materials Fee'),\n",
       " (13, 13, 'SA 0101', '2017_2018', '$55 Materials Fee'),\n",
       " (14, 14, 'BI 0172', '2017_2018', '$55 Science Lab Fee'),\n",
       " (15, 15, 'SA 0105', '2017_2018', '$55 Materials Fee'),\n",
       " (16, 16, 'SA 0130', '2017_2018', '$55 Materials Fee'),\n",
       " (17, 17, 'SA 0132', '2017_2018', '$55 Materials Fee'),\n",
       " (18, 18, 'SA 0133', '2017_2018', '$105 Materials Fee'),\n",
       " (19, 19, 'SA 0134', '2017_2018', '$105 Materials Fee'),\n",
       " (20, 20, 'SA 0136', '2017_2018', '$55 Materials Fee'),\n",
       " (21, 21, 'SA 0137', '2017_2018', '$55 Materials Fee'),\n",
       " (22, 22, 'SA 0138', '2017_2018', '$55 Materials Fee'),\n",
       " (23, 23, 'SA 0139', '2017_2018', '$55 Materials Fee'),\n",
       " (24, 24, 'SA 0230', '2017_2018', '$55 Materials Fee'),\n",
       " (25, 25, 'SA 0231', '2017_2018', '$55 Materials Fee')]"
      ]
     },
     "execution_count": 26,
     "metadata": {},
     "output_type": "execute_result"
    }
   ],
   "source": [
    "%%sql\n",
    "\n",
    "SELECT ROWID, *\n",
    "FROM Fees1\n",
    "LIMIT 25;"
   ]
  },
  {
   "cell_type": "code",
   "execution_count": 27,
   "metadata": {},
   "outputs": [
    {
     "name": "stdout",
     "output_type": "stream",
     "text": [
      " * sqlite:///CourseDataWarehouse.db\n",
      "Done.\n"
     ]
    },
    {
     "data": {
      "text/plain": [
       "[]"
      ]
     },
     "execution_count": 27,
     "metadata": {},
     "output_type": "execute_result"
    }
   ],
   "source": [
    "%%sql\n",
    "\n",
    "CREATE TABLE Course_Facts (\n",
    "    CRN SMALLINT,\n",
    "    Term VARCHAR(20),\n",
    "    Faculty_Name VARCHAR(10),\n",
    "    Title VARCHAR(100),\n",
    "    Section VARCHAR(10),\n",
    "    Cat_ID VARCHAR(10),\n",
    "    LID VARCHAR(10),\n",
    "    MID VARCHAR(10),\n",
    "    PID VARCHAR(10),\n",
    "    FEE_ID VARCHAR(10),\n",
    "    Capacity SMALLINT,\n",
    "    Actual SMALLINT,\n",
    "    Remaining SMALLINT\n",
    ");"
   ]
  },
  {
   "cell_type": "markdown",
   "metadata": {},
   "source": [
    "-- Insert the data from Courses into the Course_Facts table and linking the Foreign keys using the database tables"
   ]
  },
  {
   "cell_type": "code",
   "execution_count": 28,
   "metadata": {},
   "outputs": [
    {
     "name": "stdout",
     "output_type": "stream",
     "text": [
      " * sqlite:///CourseDataWarehouse.db\n",
      "1228773 rows affected.\n"
     ]
    },
    {
     "data": {
      "text/plain": [
       "[]"
      ]
     },
     "execution_count": 28,
     "metadata": {},
     "output_type": "execute_result"
    }
   ],
   "source": [
    "%%sql\n",
    "INSERT INTO Course_Facts (CRN, Term, Faculty_Name,Title, Cat_ID,PID, Section,Capacity,Actual,Remaining, LID, MID, Fee_Id)\n",
    "SELECT Courses.CRN, Courses.Term, Faculty_Name,Catalog.Title, Courses.Cat_ID, Program1.PID,  Section, Capacity, Actual, Remaining, Location.LID, Meeting.MID, Fees1.Fee_ID\n",
    "FROM Courses\n",
    "    LEFT JOIN Catalog USING (Cat_ID)\n",
    "    LEFT JOIN Program1 USING (Prg_Code)\n",
    "    LEFT JOIN Course_Meeting ON Course_Meeting.CRN = Courses.CRN AND Course_Meeting.Term = Courses.Term\n",
    "    LEFT JOIN Location ON Course_Meeting.Room = Location.Room\n",
    "    LEFT JOIN Meeting ON Course_Meeting.Start_Time = Meeting.Start_Time\n",
    "    LEFT JOIN Fees1 on Fees1.Cat_ID = Catalog.Cat_ID;\n",
    "    \n",
    "    "
   ]
  },
  {
   "cell_type": "code",
   "execution_count": 29,
   "metadata": {},
   "outputs": [
    {
     "name": "stdout",
     "output_type": "stream",
     "text": [
      " * sqlite:///CourseDataWarehouse.db\n",
      "Done.\n"
     ]
    },
    {
     "data": {
      "text/html": [
       "<table>\n",
       "    <tr>\n",
       "        <th>CRN</th>\n",
       "        <th>Term</th>\n",
       "        <th>Faculty_Name</th>\n",
       "        <th>Title</th>\n",
       "        <th>Section</th>\n",
       "        <th>Cat_ID</th>\n",
       "        <th>LID</th>\n",
       "        <th>MID</th>\n",
       "        <th>PID</th>\n",
       "        <th>FEE_ID</th>\n",
       "        <th>Capacity</th>\n",
       "        <th>Actual</th>\n",
       "        <th>Remaining</th>\n",
       "    </tr>\n",
       "    <tr>\n",
       "        <td>10893</td>\n",
       "        <td>Winter2015</td>\n",
       "        <td>Thomas B.  Cunningham</td>\n",
       "        <td>Ecology and Society</td>\n",
       "        <td>01</td>\n",
       "        <td>BI 0075</td>\n",
       "        <td>None</td>\n",
       "        <td>None</td>\n",
       "        <td>10</td>\n",
       "        <td>None</td>\n",
       "        <td>20</td>\n",
       "        <td>22</td>\n",
       "        <td>-2</td>\n",
       "    </tr>\n",
       "    <tr>\n",
       "        <td>10894</td>\n",
       "        <td>Winter2015</td>\n",
       "        <td>David   Gudelunas</td>\n",
       "        <td>Human Communication Theories</td>\n",
       "        <td>01</td>\n",
       "        <td>CO 0100</td>\n",
       "        <td>None</td>\n",
       "        <td>None</td>\n",
       "        <td>17</td>\n",
       "        <td>None</td>\n",
       "        <td>20</td>\n",
       "        <td>14</td>\n",
       "        <td>6</td>\n",
       "    </tr>\n",
       "    <tr>\n",
       "        <td>10895</td>\n",
       "        <td>Winter2015</td>\n",
       "        <td>Qin   Zhang</td>\n",
       "        <td>Intercultural Communication</td>\n",
       "        <td>01</td>\n",
       "        <td>CO 0240</td>\n",
       "        <td>None</td>\n",
       "        <td>None</td>\n",
       "        <td>17</td>\n",
       "        <td>None</td>\n",
       "        <td>20</td>\n",
       "        <td>11</td>\n",
       "        <td>9</td>\n",
       "    </tr>\n",
       "    <tr>\n",
       "        <td>10896</td>\n",
       "        <td>Winter2015</td>\n",
       "        <td>Margaret A.  Wills</td>\n",
       "        <td>Family Communication</td>\n",
       "        <td>A</td>\n",
       "        <td>CO 0246</td>\n",
       "        <td>64</td>\n",
       "        <td>42399</td>\n",
       "        <td>17</td>\n",
       "        <td>None</td>\n",
       "        <td>15</td>\n",
       "        <td>12</td>\n",
       "        <td>3</td>\n",
       "    </tr>\n",
       "    <tr>\n",
       "        <td>10897</td>\n",
       "        <td>Winter2015</td>\n",
       "        <td>David   Gudelunas</td>\n",
       "        <td>None</td>\n",
       "        <td>A</td>\n",
       "        <td>CO 0398</td>\n",
       "        <td>None</td>\n",
       "        <td>None</td>\n",
       "        <td>None</td>\n",
       "        <td>None</td>\n",
       "        <td>0</td>\n",
       "        <td>1</td>\n",
       "        <td>-1</td>\n",
       "    </tr>\n",
       "    <tr>\n",
       "        <td>10898</td>\n",
       "        <td>Winter2015</td>\n",
       "        <td>William F.  Vasquez Mazariegos</td>\n",
       "        <td>Introduction to Microeconomics</td>\n",
       "        <td>01</td>\n",
       "        <td>EC 0011</td>\n",
       "        <td>None</td>\n",
       "        <td>None</td>\n",
       "        <td>20</td>\n",
       "        <td>None</td>\n",
       "        <td>20</td>\n",
       "        <td>9</td>\n",
       "        <td>11</td>\n",
       "    </tr>\n",
       "    <tr>\n",
       "        <td>10900</td>\n",
       "        <td>Winter2015</td>\n",
       "        <td>Gita   Rajan</td>\n",
       "        <td>Introduction to Literary and Cultural Studies</td>\n",
       "        <td>01</td>\n",
       "        <td>EN 0101</td>\n",
       "        <td>None</td>\n",
       "        <td>None</td>\n",
       "        <td>26</td>\n",
       "        <td>None</td>\n",
       "        <td>20</td>\n",
       "        <td>20</td>\n",
       "        <td>0</td>\n",
       "    </tr>\n",
       "    <tr>\n",
       "        <td>10901</td>\n",
       "        <td>Winter2015</td>\n",
       "        <td>Maeve L.  Lucey</td>\n",
       "        <td>Business Writing</td>\n",
       "        <td>01</td>\n",
       "        <td>ENW 0332</td>\n",
       "        <td>None</td>\n",
       "        <td>None</td>\n",
       "        <td>27</td>\n",
       "        <td>None</td>\n",
       "        <td>20</td>\n",
       "        <td>8</td>\n",
       "        <td>12</td>\n",
       "    </tr>\n",
       "    <tr>\n",
       "        <td>10902</td>\n",
       "        <td>Winter2015</td>\n",
       "        <td>Robert James  Parisi</td>\n",
       "        <td>Introduction to Probability and Statistics</td>\n",
       "        <td>01</td>\n",
       "        <td>MA 0017</td>\n",
       "        <td>None</td>\n",
       "        <td>None</td>\n",
       "        <td>52</td>\n",
       "        <td>None</td>\n",
       "        <td>20</td>\n",
       "        <td>16</td>\n",
       "        <td>4</td>\n",
       "    </tr>\n",
       "    <tr>\n",
       "        <td>10903</td>\n",
       "        <td>Winter2015</td>\n",
       "        <td>Brian Q.  Torff</td>\n",
       "        <td>History and Development of Rock</td>\n",
       "        <td>A</td>\n",
       "        <td>MU 0102</td>\n",
       "        <td>98</td>\n",
       "        <td>42399</td>\n",
       "        <td>59</td>\n",
       "        <td>None</td>\n",
       "        <td>15</td>\n",
       "        <td>15</td>\n",
       "        <td>0</td>\n",
       "    </tr>\n",
       "    <tr>\n",
       "        <td>10904</td>\n",
       "        <td>Winter2015</td>\n",
       "        <td>Lucrecia   Garcia Iommi</td>\n",
       "        <td>United States Foreign Policy</td>\n",
       "        <td>01</td>\n",
       "        <td>PO 0133</td>\n",
       "        <td>None</td>\n",
       "        <td>None</td>\n",
       "        <td>67</td>\n",
       "        <td>None</td>\n",
       "        <td>20</td>\n",
       "        <td>19</td>\n",
       "        <td>1</td>\n",
       "    </tr>\n",
       "    <tr>\n",
       "        <td>10905</td>\n",
       "        <td>Winter2015</td>\n",
       "        <td>Suzanne   Chamlin-Richer</td>\n",
       "        <td>Watercolor</td>\n",
       "        <td>A</td>\n",
       "        <td>SA 0139</td>\n",
       "        <td>136</td>\n",
       "        <td>42399</td>\n",
       "        <td>75</td>\n",
       "        <td>23</td>\n",
       "        <td>15</td>\n",
       "        <td>18</td>\n",
       "        <td>-3</td>\n",
       "    </tr>\n",
       "    <tr>\n",
       "        <td>10906</td>\n",
       "        <td>Winter2015</td>\n",
       "        <td>Rose P.  Rodrigues</td>\n",
       "        <td>Criminal Justice System Seminar</td>\n",
       "        <td>A</td>\n",
       "        <td>SO 0279</td>\n",
       "        <td>69</td>\n",
       "        <td>42399</td>\n",
       "        <td>78</td>\n",
       "        <td>None</td>\n",
       "        <td>15</td>\n",
       "        <td>11</td>\n",
       "        <td>4</td>\n",
       "    </tr>\n",
       "    <tr>\n",
       "        <td>10907</td>\n",
       "        <td>Winter2015</td>\n",
       "        <td>Gayle A.  Bogel</td>\n",
       "        <td>Methods for School Library Media</td>\n",
       "        <td>01</td>\n",
       "        <td>MD 0463</td>\n",
       "        <td>None</td>\n",
       "        <td>None</td>\n",
       "        <td>53</td>\n",
       "        <td>None</td>\n",
       "        <td>16</td>\n",
       "        <td>10</td>\n",
       "        <td>6</td>\n",
       "    </tr>\n",
       "    <tr>\n",
       "        <td>10909</td>\n",
       "        <td>Winter2015</td>\n",
       "        <td>Lisa A.  Mainiero</td>\n",
       "        <td>Leadership</td>\n",
       "        <td>01</td>\n",
       "        <td>MG 0500</td>\n",
       "        <td>2</td>\n",
       "        <td>42399</td>\n",
       "        <td>55</td>\n",
       "        <td>None</td>\n",
       "        <td>15</td>\n",
       "        <td>10</td>\n",
       "        <td>5</td>\n",
       "    </tr>\n",
       "    <tr>\n",
       "        <td>10910</td>\n",
       "        <td>Winter2015</td>\n",
       "        <td>Lauren Elise  Cesiro</td>\n",
       "        <td>Visual Culture Since 1400: Expression and Experimentation</td>\n",
       "        <td>01</td>\n",
       "        <td>AH 0011</td>\n",
       "        <td>None</td>\n",
       "        <td>None</td>\n",
       "        <td>3</td>\n",
       "        <td>None</td>\n",
       "        <td>20</td>\n",
       "        <td>16</td>\n",
       "        <td>4</td>\n",
       "    </tr>\n",
       "    <tr>\n",
       "        <td>10911</td>\n",
       "        <td>Winter2015</td>\n",
       "        <td>Sharlene A.  McEvoy</td>\n",
       "        <td>Legal Environment of Business</td>\n",
       "        <td>A</td>\n",
       "        <td>BU 0211</td>\n",
       "        <td>8</td>\n",
       "        <td>42399</td>\n",
       "        <td>12</td>\n",
       "        <td>None</td>\n",
       "        <td>15</td>\n",
       "        <td>16</td>\n",
       "        <td>-1</td>\n",
       "    </tr>\n",
       "    <tr>\n",
       "        <td>10912</td>\n",
       "        <td>Winter2015</td>\n",
       "        <td>Jay   Krishnamoorthy</td>\n",
       "        <td>Information Systems and Database Management</td>\n",
       "        <td>01</td>\n",
       "        <td>IS 0500</td>\n",
       "        <td>104</td>\n",
       "        <td>42399</td>\n",
       "        <td>47</td>\n",
       "        <td>None</td>\n",
       "        <td>25</td>\n",
       "        <td>10</td>\n",
       "        <td>15</td>\n",
       "    </tr>\n",
       "    <tr>\n",
       "        <td>10913</td>\n",
       "        <td>Winter2015</td>\n",
       "        <td>Dawn W  Massey</td>\n",
       "        <td>Issues in Internal Audit</td>\n",
       "        <td>01</td>\n",
       "        <td>AC 0555</td>\n",
       "        <td>9</td>\n",
       "        <td>42399</td>\n",
       "        <td>1</td>\n",
       "        <td>None</td>\n",
       "        <td>18</td>\n",
       "        <td>10</td>\n",
       "        <td>8</td>\n",
       "    </tr>\n",
       "    <tr>\n",
       "        <td>10916</td>\n",
       "        <td>Winter2015</td>\n",
       "        <td>Thomas B.  Cunningham</td>\n",
       "        <td>Ecology and Society</td>\n",
       "        <td>02</td>\n",
       "        <td>BI 0075</td>\n",
       "        <td>None</td>\n",
       "        <td>None</td>\n",
       "        <td>10</td>\n",
       "        <td>None</td>\n",
       "        <td>20</td>\n",
       "        <td>19</td>\n",
       "        <td>1</td>\n",
       "    </tr>\n",
       "    <tr>\n",
       "        <td>10917</td>\n",
       "        <td>Winter2015</td>\n",
       "        <td>Joachim   Kuhn</td>\n",
       "        <td>The Nature of the Universe</td>\n",
       "        <td>01</td>\n",
       "        <td>PS 0078</td>\n",
       "        <td>None</td>\n",
       "        <td>None</td>\n",
       "        <td>68</td>\n",
       "        <td>None</td>\n",
       "        <td>20</td>\n",
       "        <td>11</td>\n",
       "        <td>9</td>\n",
       "    </tr>\n",
       "    <tr>\n",
       "        <td>10918</td>\n",
       "        <td>Winter2015</td>\n",
       "        <td>Michael C.  White</td>\n",
       "        <td>Fiction</td>\n",
       "        <td>01</td>\n",
       "        <td>ENW 0444</td>\n",
       "        <td>None</td>\n",
       "        <td>None</td>\n",
       "        <td>27</td>\n",
       "        <td>None</td>\n",
       "        <td>1</td>\n",
       "        <td>1</td>\n",
       "        <td>0</td>\n",
       "    </tr>\n",
       "    <tr>\n",
       "        <td>10919</td>\n",
       "        <td>Winter2015</td>\n",
       "        <td>Gita   Rajan</td>\n",
       "        <td>Introduction to Literary and Cultural Studies</td>\n",
       "        <td>02</td>\n",
       "        <td>EN 0101</td>\n",
       "        <td>None</td>\n",
       "        <td>None</td>\n",
       "        <td>26</td>\n",
       "        <td>None</td>\n",
       "        <td>20</td>\n",
       "        <td>9</td>\n",
       "        <td>11</td>\n",
       "    </tr>\n",
       "    <tr>\n",
       "        <td>10920</td>\n",
       "        <td>Winter2015</td>\n",
       "        <td>Kathleen A.  Wheeler</td>\n",
       "        <td>DNP Immersion</td>\n",
       "        <td>D01</td>\n",
       "        <td>NS 0687</td>\n",
       "        <td>None</td>\n",
       "        <td>None</td>\n",
       "        <td>60</td>\n",
       "        <td>None</td>\n",
       "        <td>30</td>\n",
       "        <td>4</td>\n",
       "        <td>26</td>\n",
       "    </tr>\n",
       "    <tr>\n",
       "        <td>11601</td>\n",
       "        <td>Winter2016</td>\n",
       "        <td>Yasin   Ozcelik</td>\n",
       "        <td>Information Systems and Database Management</td>\n",
       "        <td>01</td>\n",
       "        <td>IS 0500</td>\n",
       "        <td>104</td>\n",
       "        <td>42434</td>\n",
       "        <td>47</td>\n",
       "        <td>None</td>\n",
       "        <td>20</td>\n",
       "        <td>11</td>\n",
       "        <td>9</td>\n",
       "    </tr>\n",
       "    <tr>\n",
       "        <td>11603</td>\n",
       "        <td>Winter2016</td>\n",
       "        <td>Lisa M.  Sticca-Conrod</td>\n",
       "        <td>Business Ethics</td>\n",
       "        <td>OL1</td>\n",
       "        <td>AE 0291</td>\n",
       "        <td>None</td>\n",
       "        <td>None</td>\n",
       "        <td>2</td>\n",
       "        <td>None</td>\n",
       "        <td>25</td>\n",
       "        <td>17</td>\n",
       "        <td>8</td>\n",
       "    </tr>\n",
       "    <tr>\n",
       "        <td>11604</td>\n",
       "        <td>Winter2016</td>\n",
       "        <td>Lauren Elise  Cesiro</td>\n",
       "        <td>History of Photography</td>\n",
       "        <td>OL1</td>\n",
       "        <td>AH 0172</td>\n",
       "        <td>None</td>\n",
       "        <td>None</td>\n",
       "        <td>3</td>\n",
       "        <td>None</td>\n",
       "        <td>25</td>\n",
       "        <td>21</td>\n",
       "        <td>4</td>\n",
       "    </tr>\n",
       "    <tr>\n",
       "        <td>11605</td>\n",
       "        <td>Winter2016</td>\n",
       "        <td>Thomas B.  Cunningham</td>\n",
       "        <td>Ecology and Society</td>\n",
       "        <td>OL1</td>\n",
       "        <td>BI 0075</td>\n",
       "        <td>None</td>\n",
       "        <td>None</td>\n",
       "        <td>10</td>\n",
       "        <td>None</td>\n",
       "        <td>20</td>\n",
       "        <td>21</td>\n",
       "        <td>-1</td>\n",
       "    </tr>\n",
       "    <tr>\n",
       "        <td>11606</td>\n",
       "        <td>Winter2016</td>\n",
       "        <td>William F.  Vasquez Mazariegos</td>\n",
       "        <td>Introduction to Microeconomics</td>\n",
       "        <td>OL1</td>\n",
       "        <td>EC 0011</td>\n",
       "        <td>None</td>\n",
       "        <td>None</td>\n",
       "        <td>20</td>\n",
       "        <td>None</td>\n",
       "        <td>25</td>\n",
       "        <td>12</td>\n",
       "        <td>13</td>\n",
       "    </tr>\n",
       "    <tr>\n",
       "        <td>11607</td>\n",
       "        <td>Winter2016</td>\n",
       "        <td>Gita   Rajan</td>\n",
       "        <td>Introduction to Literary and Cultural Studies</td>\n",
       "        <td>OL1</td>\n",
       "        <td>EN 0101</td>\n",
       "        <td>None</td>\n",
       "        <td>None</td>\n",
       "        <td>26</td>\n",
       "        <td>None</td>\n",
       "        <td>25</td>\n",
       "        <td>22</td>\n",
       "        <td>3</td>\n",
       "    </tr>\n",
       "    <tr>\n",
       "        <td>11608</td>\n",
       "        <td>Winter2016</td>\n",
       "        <td>Brian Q.  Torff</td>\n",
       "        <td>The History of Jazz</td>\n",
       "        <td>A</td>\n",
       "        <td>MU 0101</td>\n",
       "        <td>98</td>\n",
       "        <td>42421</td>\n",
       "        <td>59</td>\n",
       "        <td>None</td>\n",
       "        <td>15</td>\n",
       "        <td>13</td>\n",
       "        <td>2</td>\n",
       "    </tr>\n",
       "    <tr>\n",
       "        <td>11609</td>\n",
       "        <td>Winter2016</td>\n",
       "        <td>Lucrecia   Garcia Iommi</td>\n",
       "        <td>United States Foreign Policy</td>\n",
       "        <td>OL1</td>\n",
       "        <td>PO 0133</td>\n",
       "        <td>None</td>\n",
       "        <td>None</td>\n",
       "        <td>67</td>\n",
       "        <td>None</td>\n",
       "        <td>25</td>\n",
       "        <td>20</td>\n",
       "        <td>5</td>\n",
       "    </tr>\n",
       "    <tr>\n",
       "        <td>11610</td>\n",
       "        <td>Winter2016</td>\n",
       "        <td>Joachim   Kuhn</td>\n",
       "        <td>The Nature of the Universe</td>\n",
       "        <td>OL1</td>\n",
       "        <td>PS 0078</td>\n",
       "        <td>None</td>\n",
       "        <td>None</td>\n",
       "        <td>68</td>\n",
       "        <td>None</td>\n",
       "        <td>25</td>\n",
       "        <td>23</td>\n",
       "        <td>2</td>\n",
       "    </tr>\n",
       "    <tr>\n",
       "        <td>11611</td>\n",
       "        <td>Winter2016</td>\n",
       "        <td>Dorothea D.  Braginsky</td>\n",
       "        <td>Fundamentals of Social Psychology</td>\n",
       "        <td>OL1</td>\n",
       "        <td>PY 0121</td>\n",
       "        <td>None</td>\n",
       "        <td>None</td>\n",
       "        <td>69</td>\n",
       "        <td>None</td>\n",
       "        <td>25</td>\n",
       "        <td>21</td>\n",
       "        <td>4</td>\n",
       "    </tr>\n",
       "    <tr>\n",
       "        <td>11612</td>\n",
       "        <td>Winter2016</td>\n",
       "        <td>Kathryn J.  Yarrington</td>\n",
       "        <td>Introduction to Drawing</td>\n",
       "        <td>A</td>\n",
       "        <td>SA 0012</td>\n",
       "        <td>134</td>\n",
       "        <td>42421</td>\n",
       "        <td>75</td>\n",
       "        <td>5</td>\n",
       "        <td>15</td>\n",
       "        <td>9</td>\n",
       "        <td>6</td>\n",
       "    </tr>\n",
       "    <tr>\n",
       "        <td>11613</td>\n",
       "        <td>Winter2016</td>\n",
       "        <td>Rose P.  Rodrigues</td>\n",
       "        <td>Criminal Justice System Seminar</td>\n",
       "        <td>A</td>\n",
       "        <td>SO 0279</td>\n",
       "        <td>62</td>\n",
       "        <td>42421</td>\n",
       "        <td>78</td>\n",
       "        <td>None</td>\n",
       "        <td>15</td>\n",
       "        <td>11</td>\n",
       "        <td>4</td>\n",
       "    </tr>\n",
       "    <tr>\n",
       "        <td>11614</td>\n",
       "        <td>Winter2016</td>\n",
       "        <td>Sharlene A.  McEvoy</td>\n",
       "        <td>Legal Environment of Business</td>\n",
       "        <td>A</td>\n",
       "        <td>BU 0211</td>\n",
       "        <td>8</td>\n",
       "        <td>42421</td>\n",
       "        <td>12</td>\n",
       "        <td>None</td>\n",
       "        <td>25</td>\n",
       "        <td>25</td>\n",
       "        <td>0</td>\n",
       "    </tr>\n",
       "    <tr>\n",
       "        <td>11615</td>\n",
       "        <td>Winter2016</td>\n",
       "        <td>Lisa A.  Mainiero</td>\n",
       "        <td>Leadership</td>\n",
       "        <td>01</td>\n",
       "        <td>MG 0500</td>\n",
       "        <td>7</td>\n",
       "        <td>42434</td>\n",
       "        <td>55</td>\n",
       "        <td>None</td>\n",
       "        <td>15</td>\n",
       "        <td>11</td>\n",
       "        <td>4</td>\n",
       "    </tr>\n",
       "    <tr>\n",
       "        <td>11616</td>\n",
       "        <td>Winter2016</td>\n",
       "        <td>Erik J.  Ranstrom</td>\n",
       "        <td>Exploring Religion: Religion in a Comparative Key</td>\n",
       "        <td>OL1</td>\n",
       "        <td>RS 0101D</td>\n",
       "        <td>None</td>\n",
       "        <td>None</td>\n",
       "        <td>73</td>\n",
       "        <td>None</td>\n",
       "        <td>20</td>\n",
       "        <td>14</td>\n",
       "        <td>6</td>\n",
       "    </tr>\n",
       "    <tr>\n",
       "        <td>11617</td>\n",
       "        <td>Winter2016</td>\n",
       "        <td>Janet   Huetteman</td>\n",
       "        <td>Advertising Management</td>\n",
       "        <td>01</td>\n",
       "        <td>MK 0540</td>\n",
       "        <td>8</td>\n",
       "        <td>42434</td>\n",
       "        <td>56</td>\n",
       "        <td>None</td>\n",
       "        <td>20</td>\n",
       "        <td>5</td>\n",
       "        <td>15</td>\n",
       "    </tr>\n",
       "    <tr>\n",
       "        <td>11618</td>\n",
       "        <td>Winter2016</td>\n",
       "        <td>Dawn W  Massey</td>\n",
       "        <td>Issues in Internal Audit</td>\n",
       "        <td>01</td>\n",
       "        <td>AC 0555</td>\n",
       "        <td>6</td>\n",
       "        <td>42417</td>\n",
       "        <td>1</td>\n",
       "        <td>None</td>\n",
       "        <td>25</td>\n",
       "        <td>9</td>\n",
       "        <td>16</td>\n",
       "    </tr>\n",
       "    <tr>\n",
       "        <td>11619</td>\n",
       "        <td>Winter2016</td>\n",
       "        <td>Milo William  Peck</td>\n",
       "        <td>State and Local Taxation</td>\n",
       "        <td>01</td>\n",
       "        <td>TX 0540</td>\n",
       "        <td>6</td>\n",
       "        <td>42442</td>\n",
       "        <td>82</td>\n",
       "        <td>None</td>\n",
       "        <td>25</td>\n",
       "        <td>12</td>\n",
       "        <td>13</td>\n",
       "    </tr>\n",
       "    <tr>\n",
       "        <td>11620</td>\n",
       "        <td>Winter2016</td>\n",
       "        <td>Joyce Muriel  Shea</td>\n",
       "        <td>DNP Immersion</td>\n",
       "        <td>01</td>\n",
       "        <td>NS 0687</td>\n",
       "        <td>None</td>\n",
       "        <td>None</td>\n",
       "        <td>60</td>\n",
       "        <td>None</td>\n",
       "        <td>20</td>\n",
       "        <td>4</td>\n",
       "        <td>16</td>\n",
       "    </tr>\n",
       "    <tr>\n",
       "        <td>11622</td>\n",
       "        <td>Winter2016</td>\n",
       "        <td>Margaret A.  Wills</td>\n",
       "        <td>Family Communication</td>\n",
       "        <td>A</td>\n",
       "        <td>CO 0246</td>\n",
       "        <td>24</td>\n",
       "        <td>42421</td>\n",
       "        <td>17</td>\n",
       "        <td>None</td>\n",
       "        <td>15</td>\n",
       "        <td>15</td>\n",
       "        <td>0</td>\n",
       "    </tr>\n",
       "    <tr>\n",
       "        <td>11625</td>\n",
       "        <td>Winter2016</td>\n",
       "        <td>Sonya R.  Huber</td>\n",
       "        <td>Independent Writing Project</td>\n",
       "        <td>SH</td>\n",
       "        <td>ENW 0347</td>\n",
       "        <td>None</td>\n",
       "        <td>None</td>\n",
       "        <td>27</td>\n",
       "        <td>None</td>\n",
       "        <td>0</td>\n",
       "        <td>2</td>\n",
       "        <td>-2</td>\n",
       "    </tr>\n",
       "    <tr>\n",
       "        <td>11626</td>\n",
       "        <td>Winter2016</td>\n",
       "        <td>Diana R.  Mager</td>\n",
       "        <td>Independent Study</td>\n",
       "        <td>DM</td>\n",
       "        <td>NS 0399</td>\n",
       "        <td>None</td>\n",
       "        <td>None</td>\n",
       "        <td>60</td>\n",
       "        <td>None</td>\n",
       "        <td>0</td>\n",
       "        <td>1</td>\n",
       "        <td>-1</td>\n",
       "    </tr>\n",
       "    <tr>\n",
       "        <td>11627</td>\n",
       "        <td>Winter2016</td>\n",
       "        <td>Thomas B.  Cunningham</td>\n",
       "        <td>Ecology and Society</td>\n",
       "        <td>OL2</td>\n",
       "        <td>BI 0075</td>\n",
       "        <td>None</td>\n",
       "        <td>None</td>\n",
       "        <td>10</td>\n",
       "        <td>None</td>\n",
       "        <td>20</td>\n",
       "        <td>20</td>\n",
       "        <td>0</td>\n",
       "    </tr>\n",
       "    <tr>\n",
       "        <td>11628</td>\n",
       "        <td>Winter2016</td>\n",
       "        <td>David   Gudelunas</td>\n",
       "        <td>Independent Study</td>\n",
       "        <td>DG</td>\n",
       "        <td>CO 0397</td>\n",
       "        <td>None</td>\n",
       "        <td>None</td>\n",
       "        <td>17</td>\n",
       "        <td>None</td>\n",
       "        <td>0</td>\n",
       "        <td>1</td>\n",
       "        <td>-1</td>\n",
       "    </tr>\n",
       "    <tr>\n",
       "        <td>11629</td>\n",
       "        <td>Winter2016</td>\n",
       "        <td>William F.  Vasquez Mazariegos</td>\n",
       "        <td>Independent Study</td>\n",
       "        <td>WVM</td>\n",
       "        <td>EC 0298</td>\n",
       "        <td>None</td>\n",
       "        <td>None</td>\n",
       "        <td>20</td>\n",
       "        <td>None</td>\n",
       "        <td>0</td>\n",
       "        <td>1</td>\n",
       "        <td>-1</td>\n",
       "    </tr>\n",
       "    <tr>\n",
       "        <td>11630</td>\n",
       "        <td>Winter2016</td>\n",
       "        <td>Margaret A.  Wills</td>\n",
       "        <td>General Studies Senior Project</td>\n",
       "        <td>MW</td>\n",
       "        <td>GS 0399</td>\n",
       "        <td>None</td>\n",
       "        <td>None</td>\n",
       "        <td>36</td>\n",
       "        <td>None</td>\n",
       "        <td>0</td>\n",
       "        <td>1</td>\n",
       "        <td>-1</td>\n",
       "    </tr>\n",
       "</table>"
      ],
      "text/plain": [
       "[(10893, 'Winter2015', 'Thomas B.  Cunningham', 'Ecology and Society', '01', 'BI 0075', None, None, '10', None, 20, 22, -2),\n",
       " (10894, 'Winter2015', 'David   Gudelunas', 'Human Communication Theories', '01', 'CO 0100', None, None, '17', None, 20, 14, 6),\n",
       " (10895, 'Winter2015', 'Qin   Zhang', 'Intercultural Communication', '01', 'CO 0240', None, None, '17', None, 20, 11, 9),\n",
       " (10896, 'Winter2015', 'Margaret A.  Wills', 'Family Communication', 'A', 'CO 0246', '64', '42399', '17', None, 15, 12, 3),\n",
       " (10897, 'Winter2015', 'David   Gudelunas', None, 'A', 'CO 0398', None, None, None, None, 0, 1, -1),\n",
       " (10898, 'Winter2015', 'William F.  Vasquez Mazariegos', 'Introduction to Microeconomics', '01', 'EC 0011', None, None, '20', None, 20, 9, 11),\n",
       " (10900, 'Winter2015', 'Gita   Rajan', 'Introduction to Literary and Cultural Studies', '01', 'EN 0101', None, None, '26', None, 20, 20, 0),\n",
       " (10901, 'Winter2015', 'Maeve L.  Lucey', 'Business Writing', '01', 'ENW 0332', None, None, '27', None, 20, 8, 12),\n",
       " (10902, 'Winter2015', 'Robert James  Parisi', 'Introduction to Probability and Statistics', '01', 'MA 0017', None, None, '52', None, 20, 16, 4),\n",
       " (10903, 'Winter2015', 'Brian Q.  Torff', 'History and Development of Rock', 'A', 'MU 0102', '98', '42399', '59', None, 15, 15, 0),\n",
       " (10904, 'Winter2015', 'Lucrecia   Garcia Iommi', 'United States Foreign Policy', '01', 'PO 0133', None, None, '67', None, 20, 19, 1),\n",
       " (10905, 'Winter2015', 'Suzanne   Chamlin-Richer', 'Watercolor', 'A', 'SA 0139', '136', '42399', '75', '23', 15, 18, -3),\n",
       " (10906, 'Winter2015', 'Rose P.  Rodrigues', 'Criminal Justice System Seminar', 'A', 'SO 0279', '69', '42399', '78', None, 15, 11, 4),\n",
       " (10907, 'Winter2015', 'Gayle A.  Bogel', 'Methods for School Library Media', '01', 'MD 0463', None, None, '53', None, 16, 10, 6),\n",
       " (10909, 'Winter2015', 'Lisa A.  Mainiero', 'Leadership', '01', 'MG 0500', '2', '42399', '55', None, 15, 10, 5),\n",
       " (10910, 'Winter2015', 'Lauren Elise  Cesiro', 'Visual Culture Since 1400: Expression and Experimentation', '01', 'AH 0011', None, None, '3', None, 20, 16, 4),\n",
       " (10911, 'Winter2015', 'Sharlene A.  McEvoy', 'Legal Environment of Business', 'A', 'BU 0211', '8', '42399', '12', None, 15, 16, -1),\n",
       " (10912, 'Winter2015', 'Jay   Krishnamoorthy', 'Information Systems and Database Management', '01', 'IS 0500', '104', '42399', '47', None, 25, 10, 15),\n",
       " (10913, 'Winter2015', 'Dawn W  Massey', 'Issues in Internal Audit', '01', 'AC 0555', '9', '42399', '1', None, 18, 10, 8),\n",
       " (10916, 'Winter2015', 'Thomas B.  Cunningham', 'Ecology and Society', '02', 'BI 0075', None, None, '10', None, 20, 19, 1),\n",
       " (10917, 'Winter2015', 'Joachim   Kuhn', 'The Nature of the Universe', '01', 'PS 0078', None, None, '68', None, 20, 11, 9),\n",
       " (10918, 'Winter2015', 'Michael C.  White', 'Fiction', '01', 'ENW 0444', None, None, '27', None, 1, 1, 0),\n",
       " (10919, 'Winter2015', 'Gita   Rajan', 'Introduction to Literary and Cultural Studies', '02', 'EN 0101', None, None, '26', None, 20, 9, 11),\n",
       " (10920, 'Winter2015', 'Kathleen A.  Wheeler', 'DNP Immersion', 'D01', 'NS 0687', None, None, '60', None, 30, 4, 26),\n",
       " (11601, 'Winter2016', 'Yasin   Ozcelik', 'Information Systems and Database Management', '01', 'IS 0500', '104', '42434', '47', None, 20, 11, 9),\n",
       " (11603, 'Winter2016', 'Lisa M.  Sticca-Conrod', 'Business Ethics', 'OL1', 'AE 0291', None, None, '2', None, 25, 17, 8),\n",
       " (11604, 'Winter2016', 'Lauren Elise  Cesiro', 'History of Photography', 'OL1', 'AH 0172', None, None, '3', None, 25, 21, 4),\n",
       " (11605, 'Winter2016', 'Thomas B.  Cunningham', 'Ecology and Society', 'OL1', 'BI 0075', None, None, '10', None, 20, 21, -1),\n",
       " (11606, 'Winter2016', 'William F.  Vasquez Mazariegos', 'Introduction to Microeconomics', 'OL1', 'EC 0011', None, None, '20', None, 25, 12, 13),\n",
       " (11607, 'Winter2016', 'Gita   Rajan', 'Introduction to Literary and Cultural Studies', 'OL1', 'EN 0101', None, None, '26', None, 25, 22, 3),\n",
       " (11608, 'Winter2016', 'Brian Q.  Torff', 'The History of Jazz', 'A', 'MU 0101', '98', '42421', '59', None, 15, 13, 2),\n",
       " (11609, 'Winter2016', 'Lucrecia   Garcia Iommi', 'United States Foreign Policy', 'OL1', 'PO 0133', None, None, '67', None, 25, 20, 5),\n",
       " (11610, 'Winter2016', 'Joachim   Kuhn', 'The Nature of the Universe', 'OL1', 'PS 0078', None, None, '68', None, 25, 23, 2),\n",
       " (11611, 'Winter2016', 'Dorothea D.  Braginsky', 'Fundamentals of Social Psychology', 'OL1', 'PY 0121', None, None, '69', None, 25, 21, 4),\n",
       " (11612, 'Winter2016', 'Kathryn J.  Yarrington', 'Introduction to Drawing', 'A', 'SA 0012', '134', '42421', '75', '5', 15, 9, 6),\n",
       " (11613, 'Winter2016', 'Rose P.  Rodrigues', 'Criminal Justice System Seminar', 'A', 'SO 0279', '62', '42421', '78', None, 15, 11, 4),\n",
       " (11614, 'Winter2016', 'Sharlene A.  McEvoy', 'Legal Environment of Business', 'A', 'BU 0211', '8', '42421', '12', None, 25, 25, 0),\n",
       " (11615, 'Winter2016', 'Lisa A.  Mainiero', 'Leadership', '01', 'MG 0500', '7', '42434', '55', None, 15, 11, 4),\n",
       " (11616, 'Winter2016', 'Erik J.  Ranstrom', 'Exploring Religion: Religion in a Comparative Key', 'OL1', 'RS 0101D', None, None, '73', None, 20, 14, 6),\n",
       " (11617, 'Winter2016', 'Janet   Huetteman', 'Advertising Management', '01', 'MK 0540', '8', '42434', '56', None, 20, 5, 15),\n",
       " (11618, 'Winter2016', 'Dawn W  Massey', 'Issues in Internal Audit', '01', 'AC 0555', '6', '42417', '1', None, 25, 9, 16),\n",
       " (11619, 'Winter2016', 'Milo William  Peck', 'State and Local Taxation', '01', 'TX 0540', '6', '42442', '82', None, 25, 12, 13),\n",
       " (11620, 'Winter2016', 'Joyce Muriel  Shea', 'DNP Immersion', '01', 'NS 0687', None, None, '60', None, 20, 4, 16),\n",
       " (11622, 'Winter2016', 'Margaret A.  Wills', 'Family Communication', 'A', 'CO 0246', '24', '42421', '17', None, 15, 15, 0),\n",
       " (11625, 'Winter2016', 'Sonya R.  Huber', 'Independent Writing Project', 'SH', 'ENW 0347', None, None, '27', None, 0, 2, -2),\n",
       " (11626, 'Winter2016', 'Diana R.  Mager', 'Independent Study', 'DM', 'NS 0399', None, None, '60', None, 0, 1, -1),\n",
       " (11627, 'Winter2016', 'Thomas B.  Cunningham', 'Ecology and Society', 'OL2', 'BI 0075', None, None, '10', None, 20, 20, 0),\n",
       " (11628, 'Winter2016', 'David   Gudelunas', 'Independent Study', 'DG', 'CO 0397', None, None, '17', None, 0, 1, -1),\n",
       " (11629, 'Winter2016', 'William F.  Vasquez Mazariegos', 'Independent Study', 'WVM', 'EC 0298', None, None, '20', None, 0, 1, -1),\n",
       " (11630, 'Winter2016', 'Margaret A.  Wills', 'General Studies Senior Project', 'MW', 'GS 0399', None, None, '36', None, 0, 1, -1)]"
      ]
     },
     "execution_count": 29,
     "metadata": {},
     "output_type": "execute_result"
    }
   ],
   "source": [
    "%%sql\n",
    "SELECT *\n",
    "FROM Course_Facts\n",
    "GROUP BY Title, Section, Term\n",
    "ORDER BY CRN\n",
    "LIMIT 50\n",
    ";"
   ]
  },
  {
   "cell_type": "markdown",
   "metadata": {},
   "source": [
    "**Drop Import Tables and Database Tables**"
   ]
  },
  {
   "cell_type": "code",
   "execution_count": 30,
   "metadata": {},
   "outputs": [
    {
     "name": "stdout",
     "output_type": "stream",
     "text": [
      " * sqlite:///CourseDataWarehouse.db\n",
      "Done.\n",
      "Done.\n",
      "Done.\n",
      "Done.\n",
      "Done.\n",
      "Done.\n",
      "Done.\n",
      "Done.\n"
     ]
    },
    {
     "data": {
      "text/plain": [
       "[]"
      ]
     },
     "execution_count": 30,
     "metadata": {},
     "output_type": "execute_result"
    }
   ],
   "source": [
    "%%sql\n",
    "DROP TABLE IF EXISTS Courses;\n",
    "DROP TABLE IF EXISTS Course_Meeting;\n",
    "DROP TABLE IF EXISTS Catalog;\n",
    "DROP TABLE IF EXISTS Program;\n",
    "DROP TABLE IF EXISTS Fees;\n",
    "\n",
    "\n",
    "DROP TABLE IF EXISTS IMPORT_COURSE_OFFERINGS;\n",
    "DROP TABLE IF EXISTS IMPORT_COURSE_MEETINGS;\n",
    "DROP TABLE IF EXISTS IMPORT_CATALOG_COURSES;\n"
   ]
  },
  {
   "cell_type": "markdown",
   "metadata": {},
   "source": [
    "## Drop ALL Tables ONLY RUN BEFORE SYNCING WITH GITHUB"
   ]
  },
  {
   "cell_type": "code",
   "execution_count": 31,
   "metadata": {},
   "outputs": [
    {
     "name": "stdout",
     "output_type": "stream",
     "text": [
      " * sqlite:///CourseDataWarehouse.db\n",
      "Done.\n",
      "Done.\n",
      "Done.\n",
      "Done.\n",
      "Done.\n"
     ]
    },
    {
     "data": {
      "text/plain": [
       "[]"
      ]
     },
     "execution_count": 31,
     "metadata": {},
     "output_type": "execute_result"
    }
   ],
   "source": [
    "%%sql\n",
    "DROP TABLE IF EXISTS Course_Facts;\n",
    "DROP TABLE IF EXISTS Meeting;\n",
    "DROP TABLE IF EXISTS Fees1;\n",
    "DROP TABLE IF EXISTS Program1;\n",
    "DROP TABLE IF EXISTS Location;"
   ]
  },
  {
   "cell_type": "markdown",
   "metadata": {},
   "source": [
    "##### Vacuum the database to reduce the size"
   ]
  },
  {
   "cell_type": "code",
   "execution_count": 32,
   "metadata": {},
   "outputs": [
    {
     "name": "stdout",
     "output_type": "stream",
     "text": [
      " * sqlite:///CourseDataWarehouse.db\n",
      "Done.\n"
     ]
    },
    {
     "data": {
      "text/plain": [
       "[]"
      ]
     },
     "execution_count": 32,
     "metadata": {},
     "output_type": "execute_result"
    }
   ],
   "source": [
    "%%sql\n",
    "Vacuum;"
   ]
  }
 ],
 "metadata": {
  "kernelspec": {
   "display_name": "Python 3",
   "language": "python",
   "name": "python3"
  },
  "language_info": {
   "codemirror_mode": {
    "name": "ipython",
    "version": 3
   },
   "file_extension": ".py",
   "mimetype": "text/x-python",
   "name": "python",
   "nbconvert_exporter": "python",
   "pygments_lexer": "ipython3",
   "version": "3.6.5"
  }
 },
 "nbformat": 4,
 "nbformat_minor": 2
}
